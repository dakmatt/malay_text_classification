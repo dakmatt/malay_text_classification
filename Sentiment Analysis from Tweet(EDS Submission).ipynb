{
 "cells": [
  {
   "cell_type": "markdown",
   "metadata": {},
   "source": [
    "# SENTIMENT ANALYSIS on SOCIAL MEDIA using NLP, Classifiation and Clustering "
   ]
  },
  {
   "cell_type": "markdown",
   "metadata": {},
   "source": [
    "             ### Author : Ahmad Fairuz Ali\n",
    "             ### Date : 18 March 2017\n",
    "             ### Updated : 10 April 2017 \n",
    "             ### Venue : Telekom Malaysia"
   ]
  },
  {
   "cell_type": "markdown",
   "metadata": {},
   "source": [
    "### <a id='toc'>Table of Content</a>\n",
    "\n",
    "1.0 <a href='#env'>Preparing the environment</a>\n",
    "\n",
    "2.0 <a href='#twitter'>Let's crawl the Twitter</a>\n",
    "\n",
    "   * 2.1 <a href='#ptt'>Process the tweet</a>\n",
    "\n",
    "   * 2.2 <a href='#mlicns'>Malay Language is currently not supported</a>\n",
    "\n",
    "3.0 <a href='#nlp'>Natural Language Processing (NLP)</a>\n",
    "   \n",
    "   * 3.1 <a href='#saipanw'> NLP : Sentiment Analysis using corpus from UIC Computer Science Deparment</a>\n",
    "\n",
    "   * 3.2 <a href='#textblob'> NLP : Using Python TextBlob NLP library</a>\n",
    "\n",
    "4.0 <a href='#ml'>Machine Learning (ML)</a>\n",
    "\n",
    "   * 4.1 <a href='#pttds'>Preparing the training and test data sets </a>\n",
    "\n",
    "   * 4.2 <a href='#rf'>Using Random Forest (RF) as Classifier</a>\n",
    "\n",
    "   * 4.3 <a href='#naive'>NAIVE BAYES as Classifier</a>\n",
    "\n",
    "5.0 <a href='#clustering'>Clustering</a>\n",
    "\n",
    "   * 5.1 <a href='#tfidf'>TF-IDF representation and K-Means clustering</a>\n",
    "\n",
    "   * 5.2 <a href='#nmf'>Using Non Matrix Factorization (NMF) for clustering</a>\n",
    "\n",
    "6.0 <a href='#summary'>Summary</a> "
   ]
  },
  {
   "cell_type": "markdown",
   "metadata": {},
   "source": [
    "## <a id='questions'>Strategic Business Questions:</a> \n",
    "\n",
    "Company always wanted to know what their customer felts about their products. Today, the feedback from customer are not captured through traditional medium (e.g. forms, phone calls, online feedback), but rather most of this feedback can be captured in the social media. One of the famous place to get the customer's feedback is Twitter. \n",
    "\n",
    "Therefore, the below questions follows.\n",
    "\n",
    "1. Does the customer really enjoy our products? \n",
    "2. What are the polarity of the sentiments? (NLP & classification)\n",
    "3. What does the customer's want? (Clustering) \n",
    "\n",
    "In this course work, we are using 2 methods in performing sentiment analysis. \n",
    "\n",
    "1. Natural language processing (NLP) using sentiment corpus. \n",
    "2. Machine learning. \n",
    "\n",
    "## <a id='nlp'>Natual Language Processing(NLP) </a> \n",
    "\n",
    "1. We are trying to use 2 ways to evaluate the NLP of sentiment. \n",
    "2. The <a href='#saipanw'>first method </a>(click here to jump to the section) NLP is by using corpus from http://www.cs.uic.edu/~liub/FBS/sentiment-analysis.html which contains the positive and negative opinion corpus. The output will be score of Tweets with sentiment of positive and negative.  \n",
    "3. The <a href='#textblob'>second method </a> (click here to jump to the section) is by using Python NLP library called TextBlob. \n",
    "\n",
    "## <a id='ml'>Machine Learning(ML) </a>\n",
    "\n",
    "1. In ML, we are trying to achieve 2 things, clustering and classification. \n",
    "\n",
    "## <a id='classification'>Classification</a>\n",
    "\n",
    "1. Classification is a basic task in sentiment analysis is classifying the polarity of a given text at the document, sentence, or feature/aspect level—whether the expressed opinion in a document, a sentence or an entity feature/aspect is positive, negative, or neutral. (https://en.wikipedia.org/wiki/Sentiment_analysis). \n",
    "2. In this exercise, we are testing using <a href=\"#naive\">Naive Bayes </a>(click here to jump to the section) and <a href=\"#rf\">Random Forest(RF)</a> (click here to jump to the section) as the classification ML. \n",
    "3. There are other ML e.g. SVM or Maximum Entropy, which we will try later. \n",
    "4. The ourput will be sentiment polarity in positive, negative or neutral. \n",
    "5. Another output is to predict the sentiment given a single tweet. \n",
    "\n",
    "## <a id='clustering'>Clustering</a>\n",
    "\n",
    "1. Cluster analysis or clustering is the task of grouping a set of objects in such a way that objects in the same group (called a cluster) are more similar (in some sense or another) to each other than to those in other groups (clusters).(https://en.wikipedia.org/wiki/Cluster_analysis) \n",
    "2. In this exercise, we are testing using <a href='#tfidf'>K-Means</a> and <a href='#nmf'>NMF</a> to cluster/group the tweet data. \n",
    "3. The output will be group of high frequency words found in the tweets. \n",
    "\n",
    "## <a id='challenges'>Challenges</a>\n",
    "\n",
    "1. Our keywords are focusing on products belong to Telekom Malaysia. Hence, below are the keywords used to crawl from Twitter.\n",
    "\n",
    "| No| Keywords             |\n",
    "| --| -------------------- |\n",
    "| 1 | Streamyx             |\n",
    "| 2 | Telekom Malaysia     |\n",
    "| 3 | webe                 |\n",
    "      \n",
    "2. Some of the tweets were written in Bahasa Melayu. In NLTK reference, there is no sentiment corpus for Bahasa Melayu. Hence, what we did is to translate these tweets from Bahasa Melayu to English. \n",
    "3. We are also having problem to measure the accuracy of each ML. \n",
    "\n",
    "## Next Challenges\n",
    "\n",
    "1. In the ML practive below, we have yet to perform cross validation onto our training data set. We still manually label the training data set. We hope that we can somehow find ways to label the training data set a lot more. \n",
    "2. We also plan to store this data inside Hadoop and graphically protrayed the sentiments on time basis.  \n",
    "3. We also plan to process emoticon. :) :( \n",
    "4. We plan to scrap sentiments from the following social media.\n",
    "\n",
    "| No | Social Media |\n",
    "| -- |--------------|\n",
    "| 1. | Facebook     |\n",
    "| 2. | Instagram    |\n",
    "| 3. | Forum        |\n",
    "| 4. | Blogs        |\n",
    "\n",
    "\n",
    "\n",
    "\n",
    "\n",
    "AHMAD FAIRUZ ALI,\n",
    "0162081485 ,\n",
    "TELEKOM MALAYSIA,  \n",
    "25 March 2017. \n"
   ]
  },
  {
   "cell_type": "markdown",
   "metadata": {},
   "source": [
    "## 1.0 <a id='env'>Preparing the environment</a>\n",
    "<a href=\"#toc\">Home</a>"
   ]
  },
  {
   "cell_type": "code",
   "execution_count": 1,
   "metadata": {
    "collapsed": true
   },
   "outputs": [],
   "source": [
    "import pandas as pd\n",
    "import os\n",
    "import json\n",
    "from pprint import pprint"
   ]
  },
  {
   "cell_type": "code",
   "execution_count": 2,
   "metadata": {
    "collapsed": false
   },
   "outputs": [
    {
     "name": "stdout",
     "output_type": "stream",
     "text": [
      "height has been deprecated.\n",
      "\n"
     ]
    }
   ],
   "source": [
    "pd.set_option('display.height', 10000)\n",
    "pd.set_option('display.max_rows', 500)\n",
    "pd.set_option('display.width', 10000)\n",
    "pd.set_option('display.max_columns', None)"
   ]
  },
  {
   "cell_type": "code",
   "execution_count": 3,
   "metadata": {
    "collapsed": false
   },
   "outputs": [
    {
     "name": "stdout",
     "output_type": "stream",
     "text": [
      "/home/ahmad/Documents/project/twitter\n"
     ]
    }
   ],
   "source": [
    "cd /home/ahmad/Documents/project/twitter/"
   ]
  },
  {
   "cell_type": "markdown",
   "metadata": {},
   "source": [
    "## 2.0 <a id='twitter'>Let's run some python script to crawl the Tweet</a>\n",
    "<a href=\"#toc\">Home</a>"
   ]
  },
  {
   "cell_type": "code",
   "execution_count": 4,
   "metadata": {
    "collapsed": true
   },
   "outputs": [],
   "source": [
    "import tweepy\n",
    "from tweepy import OAuthHandler\n",
    "import json\n",
    "import time\n",
    "import io\n",
    "\n",
    "# author :  ahmad fairuz ali\n",
    "# date : 13 March 2016 \n",
    "\n",
    "# https://dev.twitter.com/rest/public/rate-limits\n",
    "\n",
    "# access dari ahmadfairuzali@gmail.com\n",
    "#\n",
    "consumer_key = 'Nyw6AzJtkV8xdnqvUMPGlZPLd'\n",
    "consumer_secret = 'AOnCaeurR4ToXuPe54TN7T23G2F6ZphTQY55wrHl0hb46CvyNI'\n",
    "access_token = '841476948639473664-ocIszuIYq6UOMryKR892ebkP8aQmxvx'\n",
    "access_secret = 'NxqDuu9czkMzpY8ktwp78oWtSUtP0g9XxpNdSKvdnPSPL'\n",
    "\n",
    "auth = OAuthHandler(consumer_key, consumer_secret)\n",
    "auth.set_access_token(access_token, access_secret)\n",
    "\n",
    "api = tweepy.API(auth)\n",
    "\n",
    "timestr = time.strftime(\"%Y%m%d-%H%M%S\")\n",
    "\n",
    "import io\n",
    "try:\n",
    "    to_unicode = unicode\n",
    "except NameError:\n",
    "    to_unicode = str"
   ]
  },
  {
   "cell_type": "code",
   "execution_count": 5,
   "metadata": {
    "collapsed": true
   },
   "outputs": [],
   "source": [
    "# this is the function to process the tweet which will store in folder called eds_folder\n",
    "def process_or_store(tweet,id_name):\n",
    "    #print(json.dumps(tweet))\n",
    "    # for each tweet, I created 1 file with filename having query string, tweet ID and timestamp\n",
    "    # \n",
    "    with io.open('eds_folder/' + query + '_' + id_name + '_' + str(timestr) + '.json', 'a',encoding='utf-8') as f:\n",
    "        str_ = json.dumps(tweet,indent=4, sort_keys=True,separators=(',', ':'), ensure_ascii=False)\n",
    "        f.write(to_unicode(str_))\n",
    "    return True"
   ]
  },
  {
   "cell_type": "code",
   "execution_count": 6,
   "metadata": {
    "collapsed": false
   },
   "outputs": [],
   "source": [
    "# run the for loop for each query below \n",
    "query = \"STREAMYX\"\n",
    "#query = \"TELEKOM MALAYSIA\"\n",
    "# query = \"webe\" \n",
    "\n",
    "max_list=100000\n",
    "\n",
    "for status in tweepy.Cursor(api.search,q=query,lang=\"en\").items(max_list):\n",
    "    id_name = str(status.id)\n",
    "    process_or_store(status._json,id_name)"
   ]
  },
  {
   "cell_type": "code",
   "execution_count": 7,
   "metadata": {
    "collapsed": false
   },
   "outputs": [
    {
     "name": "stdout",
     "output_type": "stream",
     "text": [
      "46\r\n"
     ]
    }
   ],
   "source": [
    "# count the number of JSON files collected\n",
    "!cd  eds_folder/\n",
    "!ls | wc -l"
   ]
  },
  {
   "cell_type": "markdown",
   "metadata": {},
   "source": [
    "## 2.1 <a id='ptt'>Process the TWEET data</a>\n",
    "<a href=\"#toc\">Home</a>"
   ]
  },
  {
   "cell_type": "code",
   "execution_count": 8,
   "metadata": {
    "collapsed": false
   },
   "outputs": [
    {
     "name": "stdout",
     "output_type": "stream",
     "text": [
      "['STREAMYX_842803016042344448_20170325-020228.json', 'STREAMYX_850366420118523906_20170410-224916.json', 'STREAMYX_843673622283665408_20170325-020228.json', 'STREAMYX_849686065187180544_20170410-224916.json', 'STREAMYX_849806515720605696_20170410-224916.json', 'STREAMYX_844719243325169664_20170325-020228.json', 'STREAMYX_843477210333941766_20170325-020228.json', 'STREAMYX_849561112836231171_20170410-224916.json', 'STREAMYX_844579790732460033_20170325-020228.json', 'TELEKOM MALAYSIA_844249056847122432_20170328-010744.json', 'STREAMYX_850670828433928192_20170410-224916.json', 'STREAMYX_847978885048262656_20170410-224916.json', 'STREAMYX_851267040832667648_20170410-224916.json', 'STREAMYX_847827094004527106_20170410-224916.json', 'STREAMYX_849843596228349954_20170410-224916.json', 'STREAMYX_842947574155825152_20170325-020228.json', 'STREAMYX_842730012310564865_20170325-020228.json', 'TELEKOM MALAYSIA_844136098141892608_20170328-010744.json', 'TELEKOM MALAYSIA_844958855050211328_20170328-010744.json', 'STREAMYX_851277843510116352_20170410-224916.json', 'STREAMYX_843399871239471106_20170325-020228.json', 'STREAMYX_850717024145637377_20170410-224916.json', 'STREAMYX_844236882028384256_20170325-020228.json', 'STREAMYX_848135267835940864_20170410-224916.json', 'TELEKOM MALAYSIA_844147744667189248_20170328-010744.json', 'TELEKOM MALAYSIA_843810090809352193_20170328-010744.json', 'TELEKOM MALAYSIA_844141502339006464_20170328-010744.json', 'STREAMYX_844178971713445888_20170325-020228.json', 'STREAMYX_843332537283887104_20170325-020228.json', 'TELEKOM MALAYSIA_844509079053717504_20170328-010744.json', 'TELEKOM MALAYSIA_844130820226932740_20170328-010744.json', 'STREAMYX_847812106074206208_20170410-224916.json', 'STREAMYX_850393096923697152_20170410-224916.json', 'TELEKOM MALAYSIA_844153265524625408_20170328-010744.json', 'STREAMYX_843807333079691264_20170325-020228.json', 'STREAMYX_848133078723809280_20170410-224916.json', 'STREAMYX_844174769264066562_20170325-020228.json', 'STREAMYX_842580604512157697_20170325-020228.json', 'STREAMYX_849273216606638083_20170410-224916.json', 'STREAMYX_849036151256109056_20170410-224916.json', 'TELEKOM MALAYSIA_844163019680571392_20170328-010744.json', 'STREAMYX_844074382641131520_20170325-020228.json', 'STREAMYX_847720919459954688_20170410-224916.json', 'TELEKOM MALAYSIA_844768470617116672_20170328-010744.json', 'STREAMYX_844905366236229632_20170325-020228.json', 'TELEKOM MALAYSIA_844127443325603840_20170328-010744.json', 'TELEKOM MALAYSIA_844148119327592450_20170328-010744.json', 'STREAMYX_848820663779549184_20170410-224916.json', 'STREAMYX_847826137074020352_20170410-224916.json', 'STREAMYX_850231501283184641_20170410-224916.json', 'TELEKOM MALAYSIA_843729522121891840_20170328-010744.json', 'TELEKOM MALAYSIA_843071614631608322_20170328-010744.json', 'STREAMYX_849794290649673729_20170410-224916.json', 'TELEKOM MALAYSIA_844906012486328322_20170328-010744.json', 'STREAMYX_847973444561977344_20170410-224916.json', 'STREAMYX_843054264712880128_20170325-020228.json', 'STREAMYX_844877506528231424_20170325-020228.json', 'STREAMYX_845184680106192897_20170325-020228.json', 'STREAMYX_844548991631015936_20170325-020228.json', 'STREAMYX_844805970031128577_20170325-020228.json', 'STREAMYX_844493820016447488_20170325-020228.json', 'STREAMYX_844165014781149184_20170325-020228.json', 'STREAMYX_850580937582694400_20170410-224916.json', 'STREAMYX_849993612494385152_20170410-224916.json', 'STREAMYX_842377677117902848_20170325-020228.json', 'TELEKOM MALAYSIA_845130537052192769_20170328-010744.json', 'STREAMYX_844582713713553409_20170325-020228.json', 'STREAMYX_844087123330314240_20170325-020228.json', 'STREAMYX_847843216070107136_20170410-224916.json', 'STREAMYX_849012679154860032_20170410-224916.json', 'TELEKOM MALAYSIA_844129882544062464_20170328-010744.json', 'STREAMYX_848847110199853056_20170410-224916.json', 'STREAMYX_844708977908858881_20170325-020228.json', 'STREAMYX_842221398936428544_20170325-020228.json', 'STREAMYX_844745756925820928_20170325-020228.json', 'STREAMYX_849479227753844738_20170410-224916.json', 'TELEKOM MALAYSIA_844133719342374912_20170328-010744.json', 'STREAMYX_843171593022988293_20170325-020228.json', 'TELEKOM MALAYSIA_843381792698585088_20170328-010744.json', 'STREAMYX_844531720955187200_20170325-020228.json', 'STREAMYX_841938932845711360_20170325-020228.json', 'TELEKOM MALAYSIA_844962972011319297_20170328-010744.json', 'TELEKOM MALAYSIA_844133229514780673_20170328-010744.json', 'TELEKOM MALAYSIA_844134887238000642_20170328-010744.json', 'STREAMYX_841807467608662016_20170325-020228.json', 'STREAMYX_845091494059003904_20170325-020228.json', 'STREAMYX_842565186032549889_20170325-020228.json', 'TELEKOM MALAYSIA_844127220792676352_20170328-010744.json', 'STREAMYX_848870961805787138_20170410-224916.json', 'STREAMYX_849962871639474177_20170410-224916.json', 'STREAMYX_850190786377416704_20170410-224916.json', 'STREAMYX_849088990783430656_20170410-224916.json', 'STREAMYX_848385000365989888_20170410-224916.json', 'STREAMYX_849554330395004928_20170410-224916.json', 'STREAMYX_844559212915163137_20170325-020228.json', 'STREAMYX_850596101702864897_20170410-224916.json', 'STREAMYX_844151369955135489_20170325-020228.json', 'STREAMYX_850538653562621953_20170410-224916.json', 'STREAMYX_843095585821351938_20170325-020228.json', 'TELEKOM MALAYSIA_844130794859716608_20170328-010744.json', 'STREAMYX_850163399581421569_20170410-224916.json', 'STREAMYX_850548698102759424_20170410-224916.json', 'STREAMYX_848048215169433600_20170410-224916.json', 'STREAMYX_843797217135771648_20170325-020228.json', 'STREAMYX_848187668714340352_20170410-224916.json', 'STREAMYX_842759106226085888_20170325-020228.json', 'STREAMYX_848037232715993088_20170410-224916.json', 'STREAMYX_842926724149006336_20170325-020228.json', 'STREAMYX_850196469818589184_20170410-224916.json', 'STREAMYX_850544670308352000_20170410-224916.json', 'STREAMYX_843126989636747264_20170325-020228.json', 'STREAMYX_843517544690466816_20170325-020228.json', 'STREAMYX_850294612304568321_20170410-224916.json', 'STREAMYX_844896029195558912_20170325-020228.json', 'TELEKOM MALAYSIA_844154584108945408_20170328-010744.json', 'TELEKOM MALAYSIA_843376332406902784_20170328-010744.json', 'TELEKOM MALAYSIA_844769254075359234_20170328-010744.json', 'STREAMYX_848790287476555777_20170410-224916.json', 'STREAMYX_843417397067468801_20170325-020228.json', 'STREAMYX_848204108100116480_20170410-224916.json', 'STREAMYX_849093443381067776_20170410-224916.json', 'STREAMYX_842932024931504128_20170325-020228.json', 'STREAMYX_848892468539949058_20170410-224916.json', 'STREAMYX_842242463054082050_20170325-020228.json', 'STREAMYX_844000835017236480_20170325-020228.json', 'STREAMYX_849588465909997568_20170410-224916.json', 'TELEKOM MALAYSIA_844129535754821632_20170328-010744.json', 'STREAMYX_850375307500507140_20170410-224916.json', 'TELEKOM MALAYSIA_844191421179420672_20170328-010744.json', 'STREAMYX_844192817723330560_20170325-020228.json', 'TELEKOM MALAYSIA_844687028239417344_20170328-010744.json', 'STREAMYX_844918560879140864_20170325-020228.json', 'STREAMYX_849437701082411009_20170410-224916.json', 'STREAMYX_848191743702966273_20170410-224916.json', 'STREAMYX_850349734896189440_20170410-224916.json', 'TELEKOM MALAYSIA_844142243984285696_20170328-010744.json', 'STREAMYX_851062593766674432_20170410-224916.json', 'STREAMYX_850185704835616772_20170410-224916.json', 'STREAMYX_842320396359725057_20170325-020228.json', 'STREAMYX_844532707648401408_20170325-020228.json', 'STREAMYX_849917552037957636_20170410-224916.json', 'STREAMYX_844566797147750400_20170325-020228.json', 'STREAMYX_841968799205208064_20170325-020228.json', 'STREAMYX_851102207512530950_20170410-224916.json', 'STREAMYX_843486636826660869_20170325-020228.json', 'STREAMYX_844896368284053504_20170325-020228.json', 'TELEKOM MALAYSIA_845187428813975552_20170328-010744.json', 'STREAMYX_848039735696261120_20170410-224916.json', 'STREAMYX_845149366385967106_20170325-020228.json', 'STREAMYX_847818284242042881_20170410-224916.json', 'STREAMYX_842276360831750146_20170325-020228.json', 'TELEKOM MALAYSIA_844128532376645633_20170328-010744.json', 'STREAMYX_844221221948465152_20170325-020228.json', 'TELEKOM MALAYSIA_844129112738349063_20170328-010744.json', 'STREAMYX_844070998823456769_20170325-020228.json', 'TELEKOM MALAYSIA_844218147238363136_20170328-010744.json', 'STREAMYX_843536339928674305_20170325-020228.json', 'STREAMYX_848009384110182401_20170410-224916.json', 'STREAMYX_844496698839777281_20170325-020228.json', 'STREAMYX_847816193515732994_20170410-224916.json', 'TELEKOM MALAYSIA_844132172868931584_20170328-010744.json', 'STREAMYX_844119703052210176_20170325-020228.json', 'STREAMYX_848047660950929408_20170410-224916.json', 'STREAMYX_850698884867162112_20170410-224916.json', 'STREAMYX_848870672138780672_20170410-224916.json', 'STREAMYX_841899298501586944_20170325-020228.json', 'STREAMYX_847847059742900224_20170410-224916.json', 'TELEKOM MALAYSIA_844194033257742336_20170328-010744.json', 'TELEKOM MALAYSIA_844771507968458757_20170328-010744.json', 'TELEKOM MALAYSIA_844194203894607872_20170328-010744.json', 'STREAMYX_842384680691339266_20170325-020228.json', 'STREAMYX_843488618463211521_20170325-020228.json', 'STREAMYX_844949854962921472_20170325-020228.json', 'STREAMYX_849442244746768384_20170410-224916.json', 'STREAMYX_841643612647571459_20170325-020228.json', 'TELEKOM MALAYSIA_844127425248223234_20170328-010744.json', 'STREAMYX_849558421133242368_20170410-224916.json', 'STREAMYX_844163580672933889_20170325-020228.json', 'STREAMYX_850631035561881600_20170410-224916.json', 'STREAMYX_842645955509993475_20170325-020228.json', 'STREAMYX_843385621326520322_20170325-020228.json', 'STREAMYX_842914059028639748_20170325-020228.json', 'STREAMYX_844030153449652229_20170325-020228.json', 'STREAMYX_841776084274180096_20170325-020228.json', 'STREAMYX_850642736176914433_20170410-224916.json', 'STREAMYX_843713469912375296_20170325-020228.json', 'STREAMYX_842627494771605504_20170325-020228.json', 'STREAMYX_850657610844033024_20170410-224916.json', 'STREAMYX_843706547440173056_20170325-020228.json', 'STREAMYX_844478455458623490_20170325-020228.json', 'STREAMYX_849273423700172800_20170410-224916.json', 'TELEKOM MALAYSIA_844131208581726208_20170328-010744.json', 'STREAMYX_848698060192591872_20170410-224916.json', 'STREAMYX_842341098823548928_20170325-020228.json', 'STREAMYX_849232446294040576_20170410-224916.json', 'STREAMYX_844924328768528385_20170325-020228.json', 'STREAMYX_842323760208310272_20170325-020228.json', 'STREAMYX_844241739443392512_20170325-020228.json', 'STREAMYX_842756996940017664_20170325-020228.json', 'STREAMYX_848139583518683141_20170410-224916.json', 'TELEKOM MALAYSIA_844738603074891776_20170328-010744.json', 'STREAMYX_844881391200423936_20170325-020228.json', 'STREAMYX_848191932916477952_20170410-224916.json', 'STREAMYX_843039312140734464_20170325-020228.json', 'STREAMYX_849102989939933184_20170410-224916.json', 'TELEKOM MALAYSIA_844748342043144196_20170328-010744.json', 'STREAMYX_851042055220580352_20170410-224916.json', 'STREAMYX_842520033725042688_20170325-020228.json', 'TELEKOM MALAYSIA_843368186863009792_20170328-010744.json', 'TELEKOM MALAYSIA_844509706173497345_20170328-010744.json', 'STREAMYX_848525638281682945_20170410-224916.json', 'STREAMYX_847638416225296384_20170410-224916.json', 'STREAMYX_849617258670428160_20170410-224916.json', 'STREAMYX_842556123962130432_20170325-020228.json', 'TELEKOM MALAYSIA_844769015092330497_20170328-010744.json', 'STREAMYX_844965970376482817_20170325-020228.json', 'STREAMYX_849978789236953088_20170410-224916.json', 'STREAMYX_844127243320229888_20170325-020228.json', 'TELEKOM MALAYSIA_844136014847201280_20170328-010744.json', 'STREAMYX_848162503729217540_20170410-224916.json', 'STREAMYX_843704103515504640_20170325-020228.json', 'TELEKOM MALAYSIA_844152794265280512_20170328-010744.json', 'STREAMYX_849822371397554176_20170410-224916.json', 'STREAMYX_844574703826063360_20170325-020228.json', 'STREAMYX_847788794044715010_20170410-224916.json', 'STREAMYX_849882928402137089_20170410-224916.json', 'STREAMYX_848512057553162240_20170410-224916.json', 'STREAMYX_844919166410768385_20170325-020228.json', 'TELEKOM MALAYSIA_844166483869646848_20170328-010744.json', 'STREAMYX_848476686081556481_20170410-224916.json', 'STREAMYX_843057261983412224_20170325-020228.json', 'STREAMYX_841932413672513537_20170325-020228.json', 'TELEKOM MALAYSIA_845130575958556674_20170328-010744.json', 'STREAMYX_845209207443894272_20170325-020228.json', 'TELEKOM MALAYSIA_844768532025901057_20170328-010744.json', 'STREAMYX_843796338760454145_20170325-020228.json', 'STREAMYX_850486691433295873_20170410-224916.json', 'STREAMYX_844516005699207168_20170325-020228.json', 'STREAMYX_850336666304761856_20170410-224916.json', 'STREAMYX_848725021560262656_20170410-224916.json', 'STREAMYX_844240596931825664_20170325-020228.json', 'STREAMYX_842717135583563777_20170325-020228.json', 'STREAMYX_850979872620953602_20170410-224916.json', 'STREAMYX_848559325429850113_20170410-224916.json', 'TELEKOM MALAYSIA_844128819980132352_20170328-010744.json', 'STREAMYX_850006841069371392_20170410-224916.json', 'STREAMYX_847825892118278144_20170410-224916.json', 'STREAMYX_843705647396933632_20170325-020228.json', 'STREAMYX_849501356952047616_20170410-224916.json', 'TELEKOM MALAYSIA_843760231179931648_20170328-010744.json', 'STREAMYX_848558169752317952_20170410-224916.json', 'STREAMYX_843811754547335168_20170325-020228.json', 'STREAMYX_850412570145980416_20170410-224916.json', 'STREAMYX_844323176033116160_20170325-020228.json', 'STREAMYX_848553122515570689_20170410-224916.json', 'STREAMYX_850571416084914176_20170410-224916.json', 'STREAMYX_850154109479002112_20170410-224916.json', 'STREAMYX_844238567563972608_20170325-020228.json', 'STREAMYX_848064721957924864_20170410-224916.json', 'STREAMYX_844161690488987648_20170325-020228.json', 'TELEKOM MALAYSIA_843389907557007360_20170328-010744.json', 'STREAMYX_842602422497243138_20170325-020228.json', 'STREAMYX_843496040103735304_20170325-020228.json', 'TELEKOM MALAYSIA_844131894694465536_20170328-010744.json', 'STREAMYX_849879627891843072_20170410-224916.json', 'STREAMYX_842215759329808384_20170325-020228.json', 'TELEKOM MALAYSIA_844222860558139392_20170328-010744.json', 'TELEKOM MALAYSIA_844710674693591041_20170328-010744.json', 'TELEKOM MALAYSIA_844906266971418626_20170328-010744.json', 'STREAMYX_849160544338812929_20170410-224916.json', 'TELEKOM MALAYSIA_844128148622999553_20170328-010744.json', 'STREAMYX_842785652286484480_20170325-020228.json', 'STREAMYX_849127053651832832_20170410-224916.json', 'STREAMYX_844578958284918786_20170325-020228.json', 'STREAMYX_843715162506838016_20170325-020228.json', 'STREAMYX_844882894845874181_20170325-020228.json', 'STREAMYX_847642286938742784_20170410-224916.json', 'STREAMYX_847845922125918209_20170410-224916.json', 'STREAMYX_847986988619767808_20170410-224916.json', 'STREAMYX_843809832763248643_20170325-020228.json', 'STREAMYX_849934870482636803_20170410-224916.json', 'STREAMYX_843721827465609216_20170325-020228.json', 'TELEKOM MALAYSIA_843710588219867140_20170328-010744.json', 'STREAMYX_844541938154061828_20170325-020228.json', 'STREAMYX_849298214859702273_20170410-224916.json', 'STREAMYX_849569847335899136_20170410-224916.json']\n"
     ]
    }
   ],
   "source": [
    "# let's get the filename first \n",
    "path_to_json = 'eds_folder/'\n",
    "json_files = [pos_json for pos_json in os.listdir(path_to_json) if pos_json.endswith('.json')]\n",
    "print(json_files) # print the file name sahaja!"
   ]
  },
  {
   "cell_type": "code",
   "execution_count": 11,
   "metadata": {
    "collapsed": false
   },
   "outputs": [
    {
     "name": "stdout",
     "output_type": "stream",
     "text": [
      "Streamyx before was better than this TM WiFi tbh\n"
     ]
    }
   ],
   "source": [
    "# test opening one file \n",
    "with open('eds_folder/STREAMYX_843807333079691264_20170325-020228.json') as data_file:    \n",
    "    data = json.load(data_file)\n",
    "print(data['text'])"
   ]
  },
  {
   "cell_type": "code",
   "execution_count": 12,
   "metadata": {
    "collapsed": false
   },
   "outputs": [],
   "source": [
    "# this will read all the JSON file above and put them into 1 pandas object.\n",
    "for js in json_files:\n",
    "    with open(os.path.join(path_to_json, js)) as json_file:\n",
    "        json_text = json.load(json_file)\n",
    "# Done!"
   ]
  },
  {
   "cell_type": "code",
   "execution_count": 13,
   "metadata": {
    "collapsed": false
   },
   "outputs": [
    {
     "data": {
      "text/plain": [
       "24"
      ]
     },
     "execution_count": 13,
     "metadata": {},
     "output_type": "execute_result"
    }
   ],
   "source": [
    "# what are the size?\n",
    "len(json_text)"
   ]
  },
  {
   "cell_type": "code",
   "execution_count": 14,
   "metadata": {
    "collapsed": false
   },
   "outputs": [
    {
     "data": {
      "text/plain": [
       "{'contributors': None,\n",
       " 'coordinates': None,\n",
       " 'created_at': 'Wed Apr 05 10:30:10 +0000 2017',\n",
       " 'entities': {'hashtags': [],\n",
       "  'symbols': [],\n",
       "  'urls': [],\n",
       "  'user_mentions': [{'id': 124659307,\n",
       "    'id_str': '124659307',\n",
       "    'indices': [0, 10],\n",
       "    'name': 'Anas',\n",
       "    'screen_name': 'AnasJalen'}]},\n",
       " 'favorite_count': 0,\n",
       " 'favorited': False,\n",
       " 'geo': None,\n",
       " 'id': 849569847335899136,\n",
       " 'id_str': '849569847335899136',\n",
       " 'in_reply_to_screen_name': 'AnasJalen',\n",
       " 'in_reply_to_status_id': 849554330395004928,\n",
       " 'in_reply_to_status_id_str': '849554330395004928',\n",
       " 'in_reply_to_user_id': 124659307,\n",
       " 'in_reply_to_user_id_str': '124659307',\n",
       " 'is_quote_status': False,\n",
       " 'lang': 'en',\n",
       " 'metadata': {'iso_language_code': 'en', 'result_type': 'recent'},\n",
       " 'place': None,\n",
       " 'retweet_count': 0,\n",
       " 'retweeted': False,\n",
       " 'source': '<a href=\"http://www.hootsuite.com\" rel=\"nofollow\">Hootsuite</a>',\n",
       " 'text': '@AnasJalen What seems to be the issue with your Streamyx ya? Can you elaborate more on your issue please?',\n",
       " 'truncated': False,\n",
       " 'user': {'contributors_enabled': False,\n",
       "  'created_at': 'Mon Jul 18 07:39:03 +0000 2011',\n",
       "  'default_profile': False,\n",
       "  'default_profile_image': False,\n",
       "  'description': 'Official account for TM service-related support and queries.We are online everyday 9am-12am including Public Holidays.For Rules of Engagement, visit',\n",
       "  'entities': {'description': {'urls': []},\n",
       "   'url': {'urls': [{'display_url': 'tm.com.my/OnlineHelp/Cus…',\n",
       "      'expanded_url': 'https://www.tm.com.my/OnlineHelp/CustomerSupport/Pages/ServiceCenter.aspx',\n",
       "      'indices': [0, 23],\n",
       "      'url': 'https://t.co/hMO4gbGUzH'}]}},\n",
       "  'favourites_count': 134,\n",
       "  'follow_request_sent': False,\n",
       "  'followers_count': 48401,\n",
       "  'following': False,\n",
       "  'friends_count': 19330,\n",
       "  'geo_enabled': True,\n",
       "  'has_extended_profile': False,\n",
       "  'id': 337579340,\n",
       "  'id_str': '337579340',\n",
       "  'is_translation_enabled': False,\n",
       "  'is_translator': False,\n",
       "  'lang': 'en',\n",
       "  'listed_count': 155,\n",
       "  'location': 'Kuala Lumpur, Malaysia ',\n",
       "  'name': 'TMConnects',\n",
       "  'notifications': False,\n",
       "  'profile_background_color': 'ABB8C2',\n",
       "  'profile_background_image_url': 'http://pbs.twimg.com/profile_background_images/453082085515751424/WdQ6fjN5.jpeg',\n",
       "  'profile_background_image_url_https': 'https://pbs.twimg.com/profile_background_images/453082085515751424/WdQ6fjN5.jpeg',\n",
       "  'profile_background_tile': False,\n",
       "  'profile_banner_url': 'https://pbs.twimg.com/profile_banners/337579340/1490087581',\n",
       "  'profile_image_url': 'http://pbs.twimg.com/profile_images/503736241800499202/7pNigbWu_normal.jpeg',\n",
       "  'profile_image_url_https': 'https://pbs.twimg.com/profile_images/503736241800499202/7pNigbWu_normal.jpeg',\n",
       "  'profile_link_color': '0084B4',\n",
       "  'profile_sidebar_border_color': '000000',\n",
       "  'profile_sidebar_fill_color': 'DDEEF6',\n",
       "  'profile_text_color': '333333',\n",
       "  'profile_use_background_image': False,\n",
       "  'protected': False,\n",
       "  'screen_name': 'TMConnects',\n",
       "  'statuses_count': 218912,\n",
       "  'time_zone': 'Kuala Lumpur',\n",
       "  'translator_type': 'none',\n",
       "  'url': 'https://t.co/hMO4gbGUzH',\n",
       "  'utc_offset': 28800,\n",
       "  'verified': False}}"
      ]
     },
     "execution_count": 14,
     "metadata": {},
     "output_type": "execute_result"
    }
   ],
   "source": [
    "# let's see what is JSON looks like\n",
    "json_text"
   ]
  },
  {
   "cell_type": "code",
   "execution_count": 15,
   "metadata": {
    "collapsed": true
   },
   "outputs": [],
   "source": [
    "# Next is to prepare the jsons_data with 4 columns \n",
    "# if hang re-execute again, it will flushs the old value \n",
    "jsons_data = pd.DataFrame(columns=['t_id','created_at','text','user_name','location'])"
   ]
  },
  {
   "cell_type": "code",
   "execution_count": 16,
   "metadata": {
    "collapsed": false
   },
   "outputs": [],
   "source": [
    "# For this,we scrap the specific json value from the json object to be paste into pandas data frame called 'jsons_data' \n",
    "for index, js in enumerate(json_files):\n",
    "    with open(os.path.join(path_to_json, js)) as json_file:\n",
    "        json_text = json.load(json_file)\n",
    "        t_id = json_text['id']\n",
    "        created_at = json_text['created_at']\n",
    "        text = json_text['text']\n",
    "        user_name = json_text['user']['name']\n",
    "        location = json_text['user']['location']\n",
    "        jsons_data.loc[index] = [t_id,created_at,text,user_name,location]"
   ]
  },
  {
   "cell_type": "code",
   "execution_count": 17,
   "metadata": {
    "collapsed": false
   },
   "outputs": [
    {
     "data": {
      "text/plain": [
       "(286, 5)"
      ]
     },
     "execution_count": 17,
     "metadata": {},
     "output_type": "execute_result"
    }
   ],
   "source": [
    "# what is the shape?\n",
    "jsons_data.shape"
   ]
  },
  {
   "cell_type": "code",
   "execution_count": 18,
   "metadata": {
    "collapsed": false,
    "scrolled": true
   },
   "outputs": [
    {
     "data": {
      "text/html": [
       "<div>\n",
       "<table border=\"1\" class=\"dataframe\">\n",
       "  <thead>\n",
       "    <tr style=\"text-align: right;\">\n",
       "      <th></th>\n",
       "      <th>t_id</th>\n",
       "      <th>created_at</th>\n",
       "      <th>text</th>\n",
       "      <th>user_name</th>\n",
       "      <th>location</th>\n",
       "    </tr>\n",
       "  </thead>\n",
       "  <tbody>\n",
       "    <tr>\n",
       "      <th>0</th>\n",
       "      <td>8.428030e+17</td>\n",
       "      <td>Fri Mar 17 18:21:12 +0000 2017</td>\n",
       "      <td>@TMConnects refresh my connection-streamyx</td>\n",
       "      <td>Lil Ariana CupcakKe</td>\n",
       "      <td>Malaysia</td>\n",
       "    </tr>\n",
       "    <tr>\n",
       "      <th>1</th>\n",
       "      <td>8.503664e+17</td>\n",
       "      <td>Fri Apr 07 15:15:28 +0000 2017</td>\n",
       "      <td>OMFG STREAMYX</td>\n",
       "      <td>ㅤㅤㅤＤＡＮＩＥＬ Ａ．ㅤㅤㅤㅤㅤ</td>\n",
       "      <td>kat hati awaaa</td>\n",
       "    </tr>\n",
       "    <tr>\n",
       "      <th>2</th>\n",
       "      <td>8.436736e+17</td>\n",
       "      <td>Mon Mar 20 04:00:40 +0000 2017</td>\n",
       "      <td>@badrulhisyam92 @TMConnects lol 2 seconds afte...</td>\n",
       "      <td>Adilah Rahman 🐼</td>\n",
       "      <td>penang. sepang. puncak alam</td>\n",
       "    </tr>\n",
       "    <tr>\n",
       "      <th>3</th>\n",
       "      <td>8.496861e+17</td>\n",
       "      <td>Wed Apr 05 18:11:59 +0000 2017</td>\n",
       "      <td>RT @maya_karin: UniFi and Streamyx customers? ...</td>\n",
       "      <td>RICHARDJOHNBACCELLIA</td>\n",
       "      <td>Sacramento, CA</td>\n",
       "    </tr>\n",
       "    <tr>\n",
       "      <th>4</th>\n",
       "      <td>8.498065e+17</td>\n",
       "      <td>Thu Apr 06 02:10:36 +0000 2017</td>\n",
       "      <td>@swankyhobos Hi. Just to confirm, you're subsc...</td>\n",
       "      <td>TMConnects</td>\n",
       "      <td>Kuala Lumpur, Malaysia</td>\n",
       "    </tr>\n",
       "  </tbody>\n",
       "</table>\n",
       "</div>"
      ],
      "text/plain": [
       "           t_id                      created_at                                               text             user_name                     location\n",
       "0  8.428030e+17  Fri Mar 17 18:21:12 +0000 2017         @TMConnects refresh my connection-streamyx   Lil Ariana CupcakKe                     Malaysia\n",
       "1  8.503664e+17  Fri Apr 07 15:15:28 +0000 2017                                      OMFG STREAMYX     ㅤㅤㅤＤＡＮＩＥＬ Ａ．ㅤㅤㅤㅤㅤ               kat hati awaaa\n",
       "2  8.436736e+17  Mon Mar 20 04:00:40 +0000 2017  @badrulhisyam92 @TMConnects lol 2 seconds afte...       Adilah Rahman 🐼  penang. sepang. puncak alam\n",
       "3  8.496861e+17  Wed Apr 05 18:11:59 +0000 2017  RT @maya_karin: UniFi and Streamyx customers? ...  RICHARDJOHNBACCELLIA               Sacramento, CA\n",
       "4  8.498065e+17  Thu Apr 06 02:10:36 +0000 2017  @swankyhobos Hi. Just to confirm, you're subsc...            TMConnects      Kuala Lumpur, Malaysia "
      ]
     },
     "execution_count": 18,
     "metadata": {},
     "output_type": "execute_result"
    }
   ],
   "source": [
    "# let's view few of them\n",
    "jsons_data.head()"
   ]
  },
  {
   "cell_type": "markdown",
   "metadata": {},
   "source": [
    "## 2.2 <a id='mlicns'>Malay Language is currently not supported. Hence we need to translate these tweet messages from Malay Language to English</a>\n",
    "<a href=\"#toc\">Home</a>"
   ]
  },
  {
   "cell_type": "markdown",
   "metadata": {},
   "source": [
    "We found that some of the tweets were in Bahasa Melayu (Malay Language). There is no Malay corpus available freely. Hence, we need to translate them into English. However, we are aware that the sentiment using translation is not accurate. For example, the word 'babi' in Malay language are referring to hate (negative) , but in English could be a good thing (positive) because it's a food."
   ]
  },
  {
   "cell_type": "code",
   "execution_count": 19,
   "metadata": {
    "collapsed": true
   },
   "outputs": [],
   "source": [
    "# taken from https://github.com/mouuff/mtranslate/blob/master/mtranslate/core.py \n",
    "import sys\n",
    "import re\n",
    "\n",
    "if (sys.version_info[0] < 3):\n",
    "    import urllib2\n",
    "    import urllib\n",
    "    import HTMLParser\n",
    "else:\n",
    "    import html.parser\n",
    "    import urllib.request\n",
    "    import urllib.parse\n",
    "\n",
    "agent = {'User-Agent':\n",
    "\"Mozilla/4.0 (\\\n",
    "compatible;\\\n",
    "MSIE 6.0;\\\n",
    "Windows NT 5.1;\\\n",
    "SV1;\\\n",
    ".NET CLR 1.1.4322;\\\n",
    ".NET CLR 2.0.50727;\\\n",
    ".NET CLR 3.0.04506.30\\\n",
    ")\"}\n",
    "\n",
    "\n",
    "def unescape(text):\n",
    "    if (sys.version_info[0] < 3):\n",
    "        parser = HTMLParser.HTMLParser()\n",
    "    else:\n",
    "        parser = html.parser.HTMLParser()\n",
    "    return (parser.unescape(text))\n",
    "\n",
    "\n",
    "def translate(to_translate, to_language=\"auto\", from_language=\"auto\"):\n",
    "    base_link = \"http://translate.google.com/m?hl=%s&sl=%s&q=%s\"\n",
    "    if (sys.version_info[0] < 3):\n",
    "        to_translate = urllib.quote_plus(to_translate)\n",
    "        link = base_link % (to_language, from_language, to_translate)\n",
    "        request = urllib2.Request(link, headers=agent)\n",
    "        raw_data = urllib2.urlopen(request).read()\n",
    "    else:\n",
    "        to_translate = urllib.parse.quote(to_translate)\n",
    "        link = base_link % (to_language, from_language, to_translate)\n",
    "        request = urllib.request.Request(link, headers=agent)\n",
    "        raw_data = urllib.request.urlopen(request).read()\n",
    "    data = raw_data.decode(\"utf-8\")\n",
    "    expr = r'class=\"t0\">(.*?)<'\n",
    "    re_result = re.findall(expr, data)\n",
    "    if (len(re_result) == 0):\n",
    "        result = \"\"\n",
    "    else:\n",
    "        result = unescape(re_result[0])\n",
    "    return (result)"
   ]
  },
  {
   "cell_type": "code",
   "execution_count": 20,
   "metadata": {
    "collapsed": false
   },
   "outputs": [
    {
     "name": "stderr",
     "output_type": "stream",
     "text": [
      "/home/ahmad/anaconda3/lib/python3.6/site-packages/ipykernel/__main__.py:31: DeprecationWarning: The unescape method is deprecated and will be removed in 3.5, use html.unescape() instead.\n"
     ]
    },
    {
     "data": {
      "text/plain": [
       "'good morning'"
      ]
     },
     "execution_count": 20,
     "metadata": {},
     "output_type": "execute_result"
    }
   ],
   "source": [
    "# test out the function translate()\n",
    "translate('selamat pagi')"
   ]
  },
  {
   "cell_type": "code",
   "execution_count": 21,
   "metadata": {
    "collapsed": false
   },
   "outputs": [
    {
     "name": "stderr",
     "output_type": "stream",
     "text": [
      "/home/ahmad/anaconda3/lib/python3.6/site-packages/ipykernel/__main__.py:31: DeprecationWarning: The unescape method is deprecated and will be removed in 3.5, use html.unescape() instead.\n",
      "/home/ahmad/anaconda3/lib/python3.6/site-packages/ipykernel/__main__.py:6: SettingWithCopyWarning: \n",
      "A value is trying to be set on a copy of a slice from a DataFrame\n",
      "\n",
      "See the caveats in the documentation: http://pandas.pydata.org/pandas-docs/stable/indexing.html#indexing-view-versus-copy\n"
     ]
    }
   ],
   "source": [
    "# here, we are creating a new column with all the translation from the column 'text'. If originally jsons_data['text'] \n",
    "# are in English, then it will translate by default with english \n",
    "jsons_data['translated'] = \"\"\n",
    "for i in range(0,len(jsons_data)):\n",
    "    temp = jsons_data['text'][i]\n",
    "    jsons_data['translated'][i] = translate(temp)"
   ]
  },
  {
   "cell_type": "code",
   "execution_count": 23,
   "metadata": {
    "collapsed": false
   },
   "outputs": [
    {
     "data": {
      "text/html": [
       "<div>\n",
       "<table border=\"1\" class=\"dataframe\">\n",
       "  <thead>\n",
       "    <tr style=\"text-align: right;\">\n",
       "      <th></th>\n",
       "      <th>t_id</th>\n",
       "      <th>created_at</th>\n",
       "      <th>text</th>\n",
       "      <th>user_name</th>\n",
       "      <th>location</th>\n",
       "      <th>translated</th>\n",
       "    </tr>\n",
       "  </thead>\n",
       "  <tbody>\n",
       "    <tr>\n",
       "      <th>0</th>\n",
       "      <td>8.428030e+17</td>\n",
       "      <td>Fri Mar 17 18:21:12 +0000 2017</td>\n",
       "      <td>@TMConnects refresh my connection-streamyx</td>\n",
       "      <td>Lil Ariana CupcakKe</td>\n",
       "      <td>Malaysia</td>\n",
       "      <td>@TMConnects refresh my connection-streamyx</td>\n",
       "    </tr>\n",
       "    <tr>\n",
       "      <th>1</th>\n",
       "      <td>8.503664e+17</td>\n",
       "      <td>Fri Apr 07 15:15:28 +0000 2017</td>\n",
       "      <td>OMFG STREAMYX</td>\n",
       "      <td>ㅤㅤㅤＤＡＮＩＥＬ Ａ．ㅤㅤㅤㅤㅤ</td>\n",
       "      <td>kat hati awaaa</td>\n",
       "      <td>OMFG STREAMYX</td>\n",
       "    </tr>\n",
       "  </tbody>\n",
       "</table>\n",
       "</div>"
      ],
      "text/plain": [
       "           t_id                      created_at                                        text            user_name        location                                  translated\n",
       "0  8.428030e+17  Fri Mar 17 18:21:12 +0000 2017  @TMConnects refresh my connection-streamyx  Lil Ariana CupcakKe        Malaysia  @TMConnects refresh my connection-streamyx\n",
       "1  8.503664e+17  Fri Apr 07 15:15:28 +0000 2017                               OMFG STREAMYX    ㅤㅤㅤＤＡＮＩＥＬ Ａ．ㅤㅤㅤㅤㅤ  kat hati awaaa                               OMFG STREAMYX"
      ]
     },
     "execution_count": 23,
     "metadata": {},
     "output_type": "execute_result"
    }
   ],
   "source": [
    "# let's view some of them \n",
    "jsons_data.head(2)"
   ]
  },
  {
   "cell_type": "code",
   "execution_count": 24,
   "metadata": {
    "collapsed": true
   },
   "outputs": [],
   "source": [
    "# save the translated file\n",
    "jsons_data.to_csv('translated_jsons_data.csv')"
   ]
  },
  {
   "cell_type": "markdown",
   "metadata": {},
   "source": [
    "## 3.0 <a id='nlp'> Natural Language Processing(NLP) </a>"
   ]
  },
  {
   "cell_type": "markdown",
   "metadata": {},
   "source": [
    "When using NLP, we have to prepare our environment with Natural Language Tool Kit (NLTK). NLTK is a leading platform for building Python programs to work with human language data. It provides easy-to-use interfaces to over 50 corpora and lexical resources such as WordNet, along with a suite of text processing libraries for classification, tokenization, stemming, tagging, parsing, and semantic reasoning. This also includes sentiment analysis. \n",
    "\n",
    "For Sentiment analysis to identify positive and negative words,we are using University of Illinois of Chicago, Computer Science Department. \n",
    "\n",
    "For Sentiment analysis score,we used "
   ]
  },
  {
   "cell_type": "markdown",
   "metadata": {},
   "source": [
    "## 3.1 <a id='saipanw'>Sentiment Analysis Based on corpus from UIC Computer Science Dept</a>\n",
    "<a href=\"#toc\">Home</a>"
   ]
  },
  {
   "cell_type": "markdown",
   "metadata": {},
   "source": [
    "We will be exploring the NLP method to come out with sentiment analysis. We will be using the sentiment corpus from http://www.cs.uic.edu/~liub/FBS/sentiment-analysis.html \n"
   ]
  },
  {
   "cell_type": "code",
   "execution_count": 25,
   "metadata": {
    "collapsed": false
   },
   "outputs": [],
   "source": [
    "test = pd.read_csv('translated_jsons_data.csv')"
   ]
  },
  {
   "cell_type": "code",
   "execution_count": 26,
   "metadata": {
    "collapsed": false
   },
   "outputs": [],
   "source": [
    "test.columns = ['Unnamed: 0', 't_id', 'created_at', 'translated', 'user_name', 'location', 'text']"
   ]
  },
  {
   "cell_type": "code",
   "execution_count": 27,
   "metadata": {
    "collapsed": false
   },
   "outputs": [
    {
     "data": {
      "text/html": [
       "<div>\n",
       "<table border=\"1\" class=\"dataframe\">\n",
       "  <thead>\n",
       "    <tr style=\"text-align: right;\">\n",
       "      <th></th>\n",
       "      <th>Unnamed: 0</th>\n",
       "      <th>t_id</th>\n",
       "      <th>created_at</th>\n",
       "      <th>translated</th>\n",
       "      <th>user_name</th>\n",
       "      <th>location</th>\n",
       "      <th>text</th>\n",
       "    </tr>\n",
       "  </thead>\n",
       "  <tbody>\n",
       "    <tr>\n",
       "      <th>0</th>\n",
       "      <td>0</td>\n",
       "      <td>8.428030e+17</td>\n",
       "      <td>Fri Mar 17 18:21:12 +0000 2017</td>\n",
       "      <td>@TMConnects refresh my connection-streamyx</td>\n",
       "      <td>Lil Ariana CupcakKe</td>\n",
       "      <td>Malaysia</td>\n",
       "      <td>@TMConnects refresh my connection-streamyx</td>\n",
       "    </tr>\n",
       "    <tr>\n",
       "      <th>1</th>\n",
       "      <td>1</td>\n",
       "      <td>8.503664e+17</td>\n",
       "      <td>Fri Apr 07 15:15:28 +0000 2017</td>\n",
       "      <td>OMFG STREAMYX</td>\n",
       "      <td>ㅤㅤㅤＤＡＮＩＥＬ Ａ．ㅤㅤㅤㅤㅤ</td>\n",
       "      <td>kat hati awaaa</td>\n",
       "      <td>OMFG STREAMYX</td>\n",
       "    </tr>\n",
       "  </tbody>\n",
       "</table>\n",
       "</div>"
      ],
      "text/plain": [
       "   Unnamed: 0          t_id                      created_at                                  translated            user_name        location                                        text\n",
       "0           0  8.428030e+17  Fri Mar 17 18:21:12 +0000 2017  @TMConnects refresh my connection-streamyx  Lil Ariana CupcakKe        Malaysia  @TMConnects refresh my connection-streamyx\n",
       "1           1  8.503664e+17  Fri Apr 07 15:15:28 +0000 2017                               OMFG STREAMYX    ㅤㅤㅤＤＡＮＩＥＬ Ａ．ㅤㅤㅤㅤㅤ  kat hati awaaa                               OMFG STREAMYX"
      ]
     },
     "execution_count": 27,
     "metadata": {},
     "output_type": "execute_result"
    }
   ],
   "source": [
    "test.head(2)"
   ]
  },
  {
   "cell_type": "code",
   "execution_count": 28,
   "metadata": {
    "collapsed": false
   },
   "outputs": [
    {
     "name": "stderr",
     "output_type": "stream",
     "text": [
      "/home/ahmad/anaconda3/lib/python3.6/site-packages/ipykernel/__main__.py:37: FutureWarning: sort(columns=....) is deprecated, use sort_values(by=.....)\n",
      "/home/ahmad/anaconda3/lib/python3.6/site-packages/ipykernel/__main__.py:38: FutureWarning: sort(columns=....) is deprecated, use sort_values(by=.....)\n"
     ]
    },
    {
     "data": {
      "text/html": [
       "<div>\n",
       "<table border=\"1\" class=\"dataframe\">\n",
       "  <thead>\n",
       "    <tr style=\"text-align: right;\">\n",
       "      <th></th>\n",
       "      <th>Unnamed: 0</th>\n",
       "      <th>t_id</th>\n",
       "      <th>created_at</th>\n",
       "      <th>translated</th>\n",
       "      <th>user_name</th>\n",
       "      <th>location</th>\n",
       "      <th>text</th>\n",
       "      <th>pos_scores</th>\n",
       "      <th>neg_scores</th>\n",
       "    </tr>\n",
       "  </thead>\n",
       "  <tbody>\n",
       "    <tr>\n",
       "      <th>285</th>\n",
       "      <td>285</td>\n",
       "      <td>8.495698e+17</td>\n",
       "      <td>Wed Apr 05 10:30:10 +0000 2017</td>\n",
       "      <td>@AnasJalen What seems to be the issue with you...</td>\n",
       "      <td>TMConnects</td>\n",
       "      <td>Kuala Lumpur, Malaysia</td>\n",
       "      <td>@AnasJalen What seems to be the issue with you...</td>\n",
       "      <td>0</td>\n",
       "      <td>2</td>\n",
       "    </tr>\n",
       "    <tr>\n",
       "      <th>8</th>\n",
       "      <td>8</td>\n",
       "      <td>8.445798e+17</td>\n",
       "      <td>Wed Mar 22 16:01:28 +0000 2017</td>\n",
       "      <td>Streamyx has been shitty lately. Fuck you man,...</td>\n",
       "      <td>takeru</td>\n",
       "      <td>Konohagure</td>\n",
       "      <td>Streamyx has been shitty lately. Fuck you man,...</td>\n",
       "      <td>0</td>\n",
       "      <td>2</td>\n",
       "    </tr>\n",
       "    <tr>\n",
       "      <th>149</th>\n",
       "      <td>149</td>\n",
       "      <td>8.478183e+17</td>\n",
       "      <td>Fri Mar 31 14:30:05 +0000 2017</td>\n",
       "      <td>@TMConnects I have a problem w the Streamyx I ...</td>\n",
       "      <td>F</td>\n",
       "      <td>NaN</td>\n",
       "      <td>@TMConnects I have a problem w the Streamyx I ...</td>\n",
       "      <td>0</td>\n",
       "      <td>2</td>\n",
       "    </tr>\n",
       "    <tr>\n",
       "      <th>104</th>\n",
       "      <td>104</td>\n",
       "      <td>8.481877e+17</td>\n",
       "      <td>Sat Apr 01 14:57:53 +0000 2017</td>\n",
       "      <td>Is it just me or the streamyx is awfully slow ...</td>\n",
       "      <td>fitri asyraf zahari</td>\n",
       "      <td>NaN</td>\n",
       "      <td>Is it just me or the streamyx is awfully slow ...</td>\n",
       "      <td>1</td>\n",
       "      <td>2</td>\n",
       "    </tr>\n",
       "    <tr>\n",
       "      <th>156</th>\n",
       "      <td>156</td>\n",
       "      <td>8.435363e+17</td>\n",
       "      <td>Sun Mar 19 18:55:10 +0000 2017</td>\n",
       "      <td>Probably I have wasted 20% of my life time by ...</td>\n",
       "      <td>takeru</td>\n",
       "      <td>Konohagure</td>\n",
       "      <td>Probably I have wasted 20% of my life time by ...</td>\n",
       "      <td>0</td>\n",
       "      <td>2</td>\n",
       "    </tr>\n",
       "  </tbody>\n",
       "</table>\n",
       "</div>"
      ],
      "text/plain": [
       "     Unnamed: 0          t_id                      created_at                                         translated            user_name                 location                                               text  pos_scores  neg_scores\n",
       "285         285  8.495698e+17  Wed Apr 05 10:30:10 +0000 2017  @AnasJalen What seems to be the issue with you...           TMConnects  Kuala Lumpur, Malaysia   @AnasJalen What seems to be the issue with you...           0           2\n",
       "8             8  8.445798e+17  Wed Mar 22 16:01:28 +0000 2017  Streamyx has been shitty lately. Fuck you man,...               takeru               Konohagure  Streamyx has been shitty lately. Fuck you man,...           0           2\n",
       "149         149  8.478183e+17  Fri Mar 31 14:30:05 +0000 2017  @TMConnects I have a problem w the Streamyx I ...                    F                      NaN  @TMConnects I have a problem w the Streamyx I ...           0           2\n",
       "104         104  8.481877e+17  Sat Apr 01 14:57:53 +0000 2017  Is it just me or the streamyx is awfully slow ...  fitri asyraf zahari                      NaN  Is it just me or the streamyx is awfully slow ...           1           2\n",
       "156         156  8.435363e+17  Sun Mar 19 18:55:10 +0000 2017  Probably I have wasted 20% of my life time by ...               takeru               Konohagure  Probably I have wasted 20% of my life time by ...           0           2"
      ]
     },
     "execution_count": 28,
     "metadata": {},
     "output_type": "execute_result"
    }
   ],
   "source": [
    "# NLP Step 1 : Function definition \n",
    "def read_wordlist(fname):\n",
    "    with open(fname) as f:\n",
    "        wordlist = [line.strip() for line in f.readlines() \n",
    "                    if (not line[0]==';') and line.strip()\n",
    "                   ]\n",
    "    worddict = dict((word,True) for word in wordlist)\n",
    "    return worddict\n",
    "\n",
    "# The file positive-words.txt and negative-words.txt were obtained from \n",
    "# http://www.cs.uic.edu/~liub/FBS/sentiment-analysis.html  \n",
    "\n",
    "positive_words = read_wordlist('positive-words.txt')\n",
    "negative_words = read_wordlist('negative-words.txt')\n",
    "\n",
    "def pos_score(row):\n",
    "    score = 0\n",
    "    text = str(row['text'])\n",
    "    for word in text.split():\n",
    "        if word.lower() in positive_words:\n",
    "            score += 1           \n",
    "    return score\n",
    "\n",
    "def neg_score(row):\n",
    "    score = 0\n",
    "    text = str(row['text'])\n",
    "    for word in text.split():\n",
    "        if word.lower() in negative_words:\n",
    "            score += 1           \n",
    "    return score\n",
    "\n",
    "# Now let's apply the method to every row in the dataset\n",
    "test['pos_scores'] = test.apply(pos_score,axis='columns')\n",
    "test['neg_scores'] = test.apply(neg_score,axis='columns')\n",
    "test.head()\n",
    "\n",
    "test.sort('pos_scores', ascending=False).head()\n",
    "test.sort('neg_scores', ascending=False).head()\n",
    "\n",
    "#from pandas import DataFrame\n",
    "#from IPython.display import HTML"
   ]
  },
  {
   "cell_type": "code",
   "execution_count": 29,
   "metadata": {
    "collapsed": true
   },
   "outputs": [],
   "source": [
    "import matplotlib.pylab as plt\n",
    "import seaborn as sns\n",
    "import numpy as np\n",
    "%matplotlib inline"
   ]
  },
  {
   "cell_type": "code",
   "execution_count": 30,
   "metadata": {
    "collapsed": false
   },
   "outputs": [
    {
     "data": {
      "image/png": "[encoded data removed]",
      "text/plain": [
       "<matplotlib.figure.Figure at 0x7f05c530c860>"
      ]
     },
     "metadata": {},
     "output_type": "display_data"
    }
   ],
   "source": [
    "plt.subplot(211)\n",
    "plt.hist(test['pos_scores'], bins=np.arange(-0.5,40.5))\n",
    "plt.title(\"Positive scores\")\n",
    "plt.subplot(212)\n",
    "plt.hist(test['neg_scores'], bins=np.arange(-0.5,40.5))\n",
    "plt.title(\"Negative scores\")\n",
    "plt.tight_layout()\n",
    "plt.scatter(test['pos_scores'], test['neg_scores']);\n",
    "forsaving = test[['t_id','created_at','user_name','location','text','pos_scores','neg_scores']]\n",
    "forsaving.to_csv('result_tweet_using_NLP.csv', sep=',', encoding='utf-8',quotechar='\"',line_terminator='\\n',header=True)"
   ]
  },
  {
   "cell_type": "markdown",
   "metadata": {},
   "source": [
    "## Insight \n",
    "1. Based on the above graphical, we know that much of the sentiments are neutral (score 0).  "
   ]
  },
  {
   "cell_type": "markdown",
   "metadata": {},
   "source": [
    "### <a id=\"textblob\">Using Python TextBlob NLP library</a>\n",
    "<a href=\"#nlp\">(home)</a>"
   ]
  },
  {
   "cell_type": "markdown",
   "metadata": {},
   "source": [
    "TextBlob is a Python (2 and 3) library for processing textual data. It provides a simple API for \n",
    "diving into common natural language processing (NLP) tasks such as part-of-speech tagging, \n",
    "noun phrase extraction, sentiment analysis, classification, translation, and more."
   ]
  },
  {
   "cell_type": "code",
   "execution_count": 31,
   "metadata": {
    "collapsed": true
   },
   "outputs": [],
   "source": [
    "from textblob import TextBlob"
   ]
  },
  {
   "cell_type": "code",
   "execution_count": 32,
   "metadata": {
    "collapsed": false,
    "scrolled": true
   },
   "outputs": [
    {
     "data": {
      "text/html": [
       "<div>\n",
       "<table border=\"1\" class=\"dataframe\">\n",
       "  <thead>\n",
       "    <tr style=\"text-align: right;\">\n",
       "      <th></th>\n",
       "      <th>Unnamed: 0</th>\n",
       "      <th>t_id</th>\n",
       "      <th>created_at</th>\n",
       "      <th>translated</th>\n",
       "      <th>user_name</th>\n",
       "      <th>location</th>\n",
       "      <th>text</th>\n",
       "      <th>pos_scores</th>\n",
       "      <th>neg_scores</th>\n",
       "    </tr>\n",
       "  </thead>\n",
       "  <tbody>\n",
       "    <tr>\n",
       "      <th>0</th>\n",
       "      <td>0</td>\n",
       "      <td>8.428030e+17</td>\n",
       "      <td>Fri Mar 17 18:21:12 +0000 2017</td>\n",
       "      <td>@TMConnects refresh my connection-streamyx</td>\n",
       "      <td>Lil Ariana CupcakKe</td>\n",
       "      <td>Malaysia</td>\n",
       "      <td>@TMConnects refresh my connection-streamyx</td>\n",
       "      <td>1</td>\n",
       "      <td>0</td>\n",
       "    </tr>\n",
       "    <tr>\n",
       "      <th>1</th>\n",
       "      <td>1</td>\n",
       "      <td>8.503664e+17</td>\n",
       "      <td>Fri Apr 07 15:15:28 +0000 2017</td>\n",
       "      <td>OMFG STREAMYX</td>\n",
       "      <td>ㅤㅤㅤＤＡＮＩＥＬ Ａ．ㅤㅤㅤㅤㅤ</td>\n",
       "      <td>kat hati awaaa</td>\n",
       "      <td>OMFG STREAMYX</td>\n",
       "      <td>0</td>\n",
       "      <td>0</td>\n",
       "    </tr>\n",
       "  </tbody>\n",
       "</table>\n",
       "</div>"
      ],
      "text/plain": [
       "   Unnamed: 0          t_id                      created_at                                  translated            user_name        location                                        text  pos_scores  neg_scores\n",
       "0           0  8.428030e+17  Fri Mar 17 18:21:12 +0000 2017  @TMConnects refresh my connection-streamyx  Lil Ariana CupcakKe        Malaysia  @TMConnects refresh my connection-streamyx           1           0\n",
       "1           1  8.503664e+17  Fri Apr 07 15:15:28 +0000 2017                               OMFG STREAMYX    ㅤㅤㅤＤＡＮＩＥＬ Ａ．ㅤㅤㅤㅤㅤ  kat hati awaaa                               OMFG STREAMYX           0           0"
      ]
     },
     "execution_count": 32,
     "metadata": {},
     "output_type": "execute_result"
    }
   ],
   "source": [
    "test.head(2)"
   ]
  },
  {
   "cell_type": "code",
   "execution_count": 33,
   "metadata": {
    "collapsed": true
   },
   "outputs": [],
   "source": [
    "mytextblob = pd.DataFrame(columns=['mytext','tags','phrases','sentiment_polarity'])"
   ]
  },
  {
   "cell_type": "code",
   "execution_count": 34,
   "metadata": {
    "collapsed": false
   },
   "outputs": [],
   "source": [
    "i=0\n",
    "for i in range(0,len(test)):\n",
    "    mytext = test['translated'][i]\n",
    "    myblob = TextBlob(test['translated'][i])\n",
    "    mytags = myblob.tags\n",
    "    myphrases = myblob.noun_phrases\n",
    "    mysp = myblob.sentiment.polarity\n",
    "    mytextblob.loc[i] = [mytext,mytags,myphrases,mysp]\n",
    "    i=i+1"
   ]
  },
  {
   "cell_type": "code",
   "execution_count": 35,
   "metadata": {
    "collapsed": false,
    "scrolled": false
   },
   "outputs": [
    {
     "data": {
      "text/html": [
       "<div>\n",
       "<table border=\"1\" class=\"dataframe\">\n",
       "  <thead>\n",
       "    <tr style=\"text-align: right;\">\n",
       "      <th></th>\n",
       "      <th>mytext</th>\n",
       "      <th>tags</th>\n",
       "      <th>phrases</th>\n",
       "      <th>sentiment_polarity</th>\n",
       "    </tr>\n",
       "  </thead>\n",
       "  <tbody>\n",
       "    <tr>\n",
       "      <th>0</th>\n",
       "      <td>@TMConnects refresh my connection-streamyx</td>\n",
       "      <td>[(@, JJ), (TMConnects, NNP), (refresh, JJ), (m...</td>\n",
       "      <td>[tmconnects]</td>\n",
       "      <td>0.0</td>\n",
       "    </tr>\n",
       "    <tr>\n",
       "      <th>1</th>\n",
       "      <td>OMFG STREAMYX</td>\n",
       "      <td>[(OMFG, NNP), (STREAMYX, NNP)]</td>\n",
       "      <td>[omfg streamyx]</td>\n",
       "      <td>0.0</td>\n",
       "    </tr>\n",
       "    <tr>\n",
       "      <th>2</th>\n",
       "      <td>@badrulhisyam92 @TMConnects lol 2 seconds afte...</td>\n",
       "      <td>[(@, JJ), (badrulhisyam92, NN), (@, NNP), (TMC...</td>\n",
       "      <td>[@ badrulhisyam92 @, tmconnects, tanya nak upg...</td>\n",
       "      <td>0.8</td>\n",
       "    </tr>\n",
       "  </tbody>\n",
       "</table>\n",
       "</div>"
      ],
      "text/plain": [
       "                                              mytext                                               tags                                            phrases  sentiment_polarity\n",
       "0         @TMConnects refresh my connection-streamyx  [(@, JJ), (TMConnects, NNP), (refresh, JJ), (m...                                       [tmconnects]                 0.0\n",
       "1                                      OMFG STREAMYX                     [(OMFG, NNP), (STREAMYX, NNP)]                                    [omfg streamyx]                 0.0\n",
       "2  @badrulhisyam92 @TMConnects lol 2 seconds afte...  [(@, JJ), (badrulhisyam92, NN), (@, NNP), (TMC...  [@ badrulhisyam92 @, tmconnects, tanya nak upg...                 0.8"
      ]
     },
     "execution_count": 35,
     "metadata": {},
     "output_type": "execute_result"
    }
   ],
   "source": [
    "mytextblob.head(3)"
   ]
  },
  {
   "cell_type": "code",
   "execution_count": 36,
   "metadata": {
    "collapsed": true
   },
   "outputs": [],
   "source": [
    "# save the results\n",
    "mytextblob.to_csv('mytextblob.csv')"
   ]
  },
  {
   "cell_type": "code",
   "execution_count": 37,
   "metadata": {
    "collapsed": false
   },
   "outputs": [
    {
     "data": {
      "text/plain": [
       "<matplotlib.collections.PathCollection at 0x7f05b960e588>"
      ]
     },
     "execution_count": 37,
     "metadata": {},
     "output_type": "execute_result"
    },
    {
     "data": {
      "image/png": "[encoded data removed]",
      "text/plain": [
       "<matplotlib.figure.Figure at 0x7f05bc72d940>"
      ]
     },
     "metadata": {},
     "output_type": "display_data"
    }
   ],
   "source": [
    "# let's graph them \n",
    "#mytextblob['sentiment_polarity']\n",
    "# mytextblob.index.values.tolist()\n",
    "plt.scatter(mytextblob['sentiment_polarity'],mytextblob.index.values)"
   ]
  },
  {
   "cell_type": "markdown",
   "metadata": {},
   "source": [
    "## Insight \n",
    "1. Based on the above graphical, we know that much of the sentiments are neutral (score 0.00). \n",
    "2. Based on number of dots, there are more dots in the right handside (between 0.00 to 1.00) which refers to positive compared to dots on left handside (between 0.00 to -0.75) which refers to negative sentiment.\n",
    "3. The results above have similarity with the NLP results from analysis using <a href='#saipanw'>UIC corpus above</a>."
   ]
  },
  {
   "cell_type": "markdown",
   "metadata": {},
   "source": [
    "## 4.0 <a id='ml'>MACHINE LEARNING(ML)</a>\n",
    "<a href=\"#toc\">Home</a>"
   ]
  },
  {
   "cell_type": "markdown",
   "metadata": {},
   "source": [
    "## 4.1 <a id='pttds'>Preparing the training and test data sets </a>\n",
    "<a href=\"#toc\">Home</a>"
   ]
  },
  {
   "cell_type": "code",
   "execution_count": 38,
   "metadata": {
    "collapsed": true
   },
   "outputs": [],
   "source": [
    "pd.set_option('display.max_columns', None)"
   ]
  },
  {
   "cell_type": "markdown",
   "metadata": {},
   "source": [
    "### Preparing the train data"
   ]
  },
  {
   "cell_type": "code",
   "execution_count": 39,
   "metadata": {
    "collapsed": true
   },
   "outputs": [],
   "source": [
    "# Step 1: Manually edit the file to label the files. Here, I did 20 of them and named the file as 'processed_tweet_labelled.json'  \n",
    "!head -n 20 translated_jsons_data.csv > translated_jsons_data_labelled.csv"
   ]
  },
  {
   "cell_type": "code",
   "execution_count": 40,
   "metadata": {
    "collapsed": false
   },
   "outputs": [
    {
     "name": "stdout",
     "output_type": "stream",
     "text": [
      "Input495tweets.csv\t\t     result_tweet_clustering.csv\r\n",
      "Link to processed_netbase_tweet.csv  result_tweet_using_NLP.csv\r\n",
      "mytextblob.csv\t\t\t     result_tweet_using_RF.csv\r\n",
      "output12ktweets.csv\t\t     StreamTM.csv\r\n",
      "output12ktweets_translated.csv\t     translated_jsons_data.csv\r\n",
      "result_rf_predicted.csv\t\t     translated_jsons_data_labelled.csv\r\n"
     ]
    }
   ],
   "source": [
    "# see if the file created\n",
    "!ls *.csv"
   ]
  },
  {
   "cell_type": "code",
   "execution_count": 41,
   "metadata": {
    "collapsed": true
   },
   "outputs": [],
   "source": [
    "# Step 2: open the file using vi and label them manually \n",
    "# We have to manually label the new column 'sentiment' of the top 20 of the processed_tweet.json for us to use \n",
    "# them as the training set.  \n",
    "# \n",
    "# we label them as below\n",
    "# '0' -  Neutral\n",
    "# '1' -  Positive \n",
    "# '-1' - Negative\n",
    "# '9' - Not Applicable "
   ]
  },
  {
   "cell_type": "code",
   "execution_count": 42,
   "metadata": {
    "collapsed": false
   },
   "outputs": [],
   "source": [
    "# Step 3: Load the labelled file\n",
    "train = pd.read_csv('translated_jsons_data_labelled.csv',header=0,delimiter=\",\")"
   ]
  },
  {
   "cell_type": "code",
   "execution_count": 43,
   "metadata": {
    "collapsed": false,
    "scrolled": true
   },
   "outputs": [
    {
     "data": {
      "text/html": [
       "<div>\n",
       "<table border=\"1\" class=\"dataframe\">\n",
       "  <thead>\n",
       "    <tr style=\"text-align: right;\">\n",
       "      <th></th>\n",
       "      <th>no</th>\n",
       "      <th>sentiment</th>\n",
       "      <th>t_id</th>\n",
       "      <th>created_at</th>\n",
       "      <th>text</th>\n",
       "      <th>user_name</th>\n",
       "      <th>location</th>\n",
       "      <th>translated</th>\n",
       "    </tr>\n",
       "  </thead>\n",
       "  <tbody>\n",
       "    <tr>\n",
       "      <th>0</th>\n",
       "      <td>0</td>\n",
       "      <td>1</td>\n",
       "      <td>8.428030e+17</td>\n",
       "      <td>Fri Mar 17 18:21:12 +0000 2017</td>\n",
       "      <td>@TMConnects refresh my connection-streamyx</td>\n",
       "      <td>Lil Ariana CupcakKe</td>\n",
       "      <td>Malaysia</td>\n",
       "      <td>@TMConnects refresh my connection-streamyx</td>\n",
       "    </tr>\n",
       "    <tr>\n",
       "      <th>1</th>\n",
       "      <td>1</td>\n",
       "      <td>0</td>\n",
       "      <td>8.436736e+17</td>\n",
       "      <td>Mon Mar 20 04:00:40 +0000 2017</td>\n",
       "      <td>@badrulhisyam92 @TMConnects lol 2 seconds afte...</td>\n",
       "      <td>Adilah Rahman 🐼</td>\n",
       "      <td>penang. sepang. puncak alam</td>\n",
       "      <td>@ Badrulhisyam92 @TMConnects lol 2 seconds aft...</td>\n",
       "    </tr>\n",
       "    <tr>\n",
       "      <th>2</th>\n",
       "      <td>2</td>\n",
       "      <td>1</td>\n",
       "      <td>8.447192e+17</td>\n",
       "      <td>Thu Mar 23 01:15:36 +0000 2017</td>\n",
       "      <td>My workplace streamyx changed to Unifi (senyum...</td>\n",
       "      <td>조니니 🛌</td>\n",
       "      <td>NaN</td>\n",
       "      <td>My workplace changed to Streamyx Unifi (smilin...</td>\n",
       "    </tr>\n",
       "    <tr>\n",
       "      <th>3</th>\n",
       "      <td>3</td>\n",
       "      <td>0</td>\n",
       "      <td>8.434772e+17</td>\n",
       "      <td>Sun Mar 19 15:00:12 +0000 2017</td>\n",
       "      <td>@Shazreezal Hi! Just want to confirm, is it fo...</td>\n",
       "      <td>TMConnects</td>\n",
       "      <td>Kuala Lumpur, Malaysia</td>\n",
       "      <td>@Shazreezal Hi! Just want to confirm, is it fo...</td>\n",
       "    </tr>\n",
       "    <tr>\n",
       "      <th>4</th>\n",
       "      <td>4</td>\n",
       "      <td>-1</td>\n",
       "      <td>8.445798e+17</td>\n",
       "      <td>Wed Mar 22 16:01:28 +0000 2017</td>\n",
       "      <td>Streamyx has been shitty lately. Fuck you man,...</td>\n",
       "      <td>takeru</td>\n",
       "      <td>Konohagure</td>\n",
       "      <td>Streamyx has been shitty lately. Fuck you man,...</td>\n",
       "    </tr>\n",
       "  </tbody>\n",
       "</table>\n",
       "</div>"
      ],
      "text/plain": [
       "   no  sentiment          t_id                      created_at                                               text            user_name                     location                                         translated\n",
       "0   0          1  8.428030e+17  Fri Mar 17 18:21:12 +0000 2017         @TMConnects refresh my connection-streamyx  Lil Ariana CupcakKe                     Malaysia         @TMConnects refresh my connection-streamyx\n",
       "1   1          0  8.436736e+17  Mon Mar 20 04:00:40 +0000 2017  @badrulhisyam92 @TMConnects lol 2 seconds afte...      Adilah Rahman 🐼  penang. sepang. puncak alam  @ Badrulhisyam92 @TMConnects lol 2 seconds aft...\n",
       "2   2          1  8.447192e+17  Thu Mar 23 01:15:36 +0000 2017  My workplace streamyx changed to Unifi (senyum...                조니니 🛌                          NaN  My workplace changed to Streamyx Unifi (smilin...\n",
       "3   3          0  8.434772e+17  Sun Mar 19 15:00:12 +0000 2017  @Shazreezal Hi! Just want to confirm, is it fo...           TMConnects      Kuala Lumpur, Malaysia   @Shazreezal Hi! Just want to confirm, is it fo...\n",
       "4   4         -1  8.445798e+17  Wed Mar 22 16:01:28 +0000 2017  Streamyx has been shitty lately. Fuck you man,...               takeru                   Konohagure  Streamyx has been shitty lately. Fuck you man,..."
      ]
     },
     "execution_count": 43,
     "metadata": {},
     "output_type": "execute_result"
    }
   ],
   "source": [
    "# Step 4: Let's view the file , it must have the new column called 'sentiment' which were manually labelled above \n",
    "train.head(5)"
   ]
  },
  {
   "cell_type": "markdown",
   "metadata": {},
   "source": [
    "### Preparing the test data"
   ]
  },
  {
   "cell_type": "code",
   "execution_count": 44,
   "metadata": {
    "collapsed": true
   },
   "outputs": [],
   "source": [
    "# Step 1: Load back the translated file \n",
    "test = pd.read_csv('translated_jsons_data.csv')"
   ]
  },
  {
   "cell_type": "code",
   "execution_count": 45,
   "metadata": {
    "collapsed": false
   },
   "outputs": [
    {
     "name": "stdout",
     "output_type": "stream",
     "text": [
      "286\n"
     ]
    }
   ],
   "source": [
    "# Step 2: what are the size?\n",
    "orig_size = len(test.index)\n",
    "print(orig_size)"
   ]
  },
  {
   "cell_type": "code",
   "execution_count": 46,
   "metadata": {
    "collapsed": true
   },
   "outputs": [],
   "source": [
    "# Step 3: \n",
    "# however, since the first 20 (1 to 20) rows of the translated_jsons_data.csv were labelled as train,\n",
    "# hence, we need to get the remaining 21 rows and above as the test data \n",
    "test = test[21:] "
   ]
  },
  {
   "cell_type": "code",
   "execution_count": 47,
   "metadata": {
    "collapsed": false
   },
   "outputs": [
    {
     "data": {
      "text/plain": [
       "(265, 7)"
      ]
     },
     "execution_count": 47,
     "metadata": {},
     "output_type": "execute_result"
    }
   ],
   "source": [
    "# Step 4: \n",
    "# check that the number of records has reduced\n",
    "test.shape"
   ]
  },
  {
   "cell_type": "code",
   "execution_count": 48,
   "metadata": {
    "collapsed": false
   },
   "outputs": [],
   "source": [
    "# Step 5: \n",
    "# we need to change the column name for both train and test for easier management when run ML\n",
    "train.columns = ['Unnamed: 0','sentiment', 't_id', 'created_at', 'original_text', 'user_name', 'location', 'text']\n",
    "test.columns = ['id', 't_id', 'created_at', 'original_text', 'user_name', 'location', 'text']"
   ]
  },
  {
   "cell_type": "markdown",
   "metadata": {},
   "source": [
    "Now, the train data set and test data set is ready. \n",
    "\n",
    "TODO : Need to do cross validation here k-holds"
   ]
  },
  {
   "cell_type": "markdown",
   "metadata": {},
   "source": [
    "## 4.2 <a id='rf'>Using Random Forest (RF) as Classifier</a>\n",
    "<a href=\"#toc\">Home</a>"
   ]
  },
  {
   "cell_type": "markdown",
   "metadata": {},
   "source": [
    "Random forests or random decision forests are an ensemble learning method for classification, \n",
    "regression and other tasks, that operate by constructing a multitude of decision trees at training time \n",
    "and outputting the class that is the mode of the classes (classification) or mean prediction (regression)\n",
    "of the individual trees. \n",
    "Random decision forests correct for decision trees' habit of overfitting to their training. \n",
    "\n",
    "https://en.wikipedia.org/wiki/Random_forest"
   ]
  },
  {
   "cell_type": "code",
   "execution_count": 49,
   "metadata": {
    "collapsed": false
   },
   "outputs": [],
   "source": [
    "import os\n",
    "from sklearn.feature_extraction.text import CountVectorizer\n",
    "from sklearn.ensemble import RandomForestClassifier\n",
    "import pandas as pd\n",
    "import nltk\n",
    "from time import time\n",
    "import numpy as np"
   ]
  },
  {
   "cell_type": "code",
   "execution_count": 50,
   "metadata": {
    "collapsed": false
   },
   "outputs": [],
   "source": [
    "# Have to download the python code from \n",
    "# https://github.com/wendykan/DeepLearningMovies/blob/master/KaggleWord2VecUtility.py\n",
    "# and save the python files into the same working directory \n",
    "from KaggleWord2VecUtility import KaggleWord2VecUtility"
   ]
  },
  {
   "cell_type": "code",
   "execution_count": 51,
   "metadata": {
    "collapsed": false
   },
   "outputs": [],
   "source": [
    "# Using this probably take some time, hence we did 'sudo pip install -U nltk' . \n",
    "# Reference: http://www.nltk.org/install.html\n",
    "#print('Download text data sets')\n",
    "nltk.download"
   ]
  },
  {
   "cell_type": "code",
   "execution_count": 52,
   "metadata": {
    "collapsed": false
   },
   "outputs": [
    {
     "name": "stdout",
     "output_type": "stream",
     "text": [
      "cleaning and parsing the training data set...\n",
      "\n"
     ]
    },
    {
     "name": "stderr",
     "output_type": "stream",
     "text": [
      "/home/ahmad/anaconda3/lib/python3.6/site-packages/bs4/__init__.py:181: UserWarning: No parser was explicitly specified, so I'm using the best available HTML parser for this system (\"lxml\"). This usually isn't a problem, but if you run this code on another system, or in a different virtual environment, it may use a different parser and behave differently.\n",
      "\n",
      "The code that caused this warning is on line 193 of the file /home/ahmad/anaconda3/lib/python3.6/runpy.py. To get rid of this warning, change code that looks like this:\n",
      "\n",
      " BeautifulSoup([your markup])\n",
      "\n",
      "to this:\n",
      "\n",
      " BeautifulSoup([your markup], \"lxml\")\n",
      "\n",
      "  markup_type=markup_type))\n"
     ]
    },
    {
     "ename": "TypeError",
     "evalue": "object of type 'float' has no len()",
     "output_type": "error",
     "traceback": [
      "\u001b[0;31m---------------------------------------------------------------------------\u001b[0m",
      "\u001b[0;31mTypeError\u001b[0m                                 Traceback (most recent call last)",
      "\u001b[0;32m<ipython-input-52-612a83747620>\u001b[0m in \u001b[0;36m<module>\u001b[0;34m()\u001b[0m\n\u001b[1;32m      4\u001b[0m \u001b[0mprint\u001b[0m\u001b[0;34m(\u001b[0m\u001b[0;34m\"cleaning and parsing the training data set...\\n\"\u001b[0m\u001b[0;34m)\u001b[0m\u001b[0;34m\u001b[0m\u001b[0m\n\u001b[1;32m      5\u001b[0m \u001b[0;32mfor\u001b[0m \u001b[0mi\u001b[0m \u001b[0;32min\u001b[0m \u001b[0mrange\u001b[0m\u001b[0;34m(\u001b[0m\u001b[0;36m0\u001b[0m\u001b[0;34m,\u001b[0m\u001b[0mlen\u001b[0m\u001b[0;34m(\u001b[0m\u001b[0mtrain\u001b[0m\u001b[0;34m[\u001b[0m\u001b[0;34m\"text\"\u001b[0m\u001b[0;34m]\u001b[0m\u001b[0;34m)\u001b[0m\u001b[0;34m)\u001b[0m\u001b[0;34m:\u001b[0m\u001b[0;34m\u001b[0m\u001b[0m\n\u001b[0;32m----> 6\u001b[0;31m     \u001b[0mclean_train_review\u001b[0m\u001b[0;34m.\u001b[0m\u001b[0mappend\u001b[0m\u001b[0;34m(\u001b[0m\u001b[0;34m\" \"\u001b[0m\u001b[0;34m.\u001b[0m\u001b[0mjoin\u001b[0m\u001b[0;34m(\u001b[0m\u001b[0mKaggleWord2VecUtility\u001b[0m\u001b[0;34m.\u001b[0m\u001b[0mreview_to_wordlist\u001b[0m\u001b[0;34m(\u001b[0m\u001b[0mtrain\u001b[0m\u001b[0;34m[\u001b[0m\u001b[0;34m\"text\"\u001b[0m\u001b[0;34m]\u001b[0m\u001b[0;34m[\u001b[0m\u001b[0mi\u001b[0m\u001b[0;34m]\u001b[0m\u001b[0;34m,\u001b[0m\u001b[0;32mTrue\u001b[0m\u001b[0;34m)\u001b[0m\u001b[0;34m)\u001b[0m\u001b[0;34m)\u001b[0m\u001b[0;34m\u001b[0m\u001b[0m\n\u001b[0m\u001b[1;32m      7\u001b[0m \u001b[0mprint\u001b[0m\u001b[0;34m(\u001b[0m\u001b[0;34m\"done in %0.3fs.\"\u001b[0m \u001b[0;34m%\u001b[0m \u001b[0;34m(\u001b[0m\u001b[0mtime\u001b[0m\u001b[0;34m(\u001b[0m\u001b[0;34m)\u001b[0m \u001b[0;34m-\u001b[0m \u001b[0mt0\u001b[0m\u001b[0;34m)\u001b[0m\u001b[0;34m)\u001b[0m\u001b[0;34m\u001b[0m\u001b[0m\n",
      "\u001b[0;32m/home/ahmad/Documents/project/twitter/KaggleWord2VecUtility.py\u001b[0m in \u001b[0;36mreview_to_wordlist\u001b[0;34m(review, remove_stopwords)\u001b[0m\n\u001b[1;32m     20\u001b[0m         \u001b[0;31m#\u001b[0m\u001b[0;34m\u001b[0m\u001b[0;34m\u001b[0m\u001b[0m\n\u001b[1;32m     21\u001b[0m         \u001b[0;31m# 1. Remove HTML\u001b[0m\u001b[0;34m\u001b[0m\u001b[0;34m\u001b[0m\u001b[0m\n\u001b[0;32m---> 22\u001b[0;31m         \u001b[0mreview_text\u001b[0m \u001b[0;34m=\u001b[0m \u001b[0mBeautifulSoup\u001b[0m\u001b[0;34m(\u001b[0m\u001b[0mreview\u001b[0m\u001b[0;34m)\u001b[0m\u001b[0;34m.\u001b[0m\u001b[0mget_text\u001b[0m\u001b[0;34m(\u001b[0m\u001b[0;34m)\u001b[0m\u001b[0;34m\u001b[0m\u001b[0m\n\u001b[0m\u001b[1;32m     23\u001b[0m         \u001b[0;31m#\u001b[0m\u001b[0;34m\u001b[0m\u001b[0;34m\u001b[0m\u001b[0m\n\u001b[1;32m     24\u001b[0m         \u001b[0;31m# 2. Remove non-letters\u001b[0m\u001b[0;34m\u001b[0m\u001b[0;34m\u001b[0m\u001b[0m\n",
      "\u001b[0;32m/home/ahmad/anaconda3/lib/python3.6/site-packages/bs4/__init__.py\u001b[0m in \u001b[0;36m__init__\u001b[0;34m(self, markup, features, builder, parse_only, from_encoding, exclude_encodings, **kwargs)\u001b[0m\n\u001b[1;32m    190\u001b[0m         \u001b[0;32mif\u001b[0m \u001b[0mhasattr\u001b[0m\u001b[0;34m(\u001b[0m\u001b[0mmarkup\u001b[0m\u001b[0;34m,\u001b[0m \u001b[0;34m'read'\u001b[0m\u001b[0;34m)\u001b[0m\u001b[0;34m:\u001b[0m        \u001b[0;31m# It's a file-type object.\u001b[0m\u001b[0;34m\u001b[0m\u001b[0m\n\u001b[1;32m    191\u001b[0m             \u001b[0mmarkup\u001b[0m \u001b[0;34m=\u001b[0m \u001b[0mmarkup\u001b[0m\u001b[0;34m.\u001b[0m\u001b[0mread\u001b[0m\u001b[0;34m(\u001b[0m\u001b[0;34m)\u001b[0m\u001b[0;34m\u001b[0m\u001b[0m\n\u001b[0;32m--> 192\u001b[0;31m         elif len(markup) <= 256 and (\n\u001b[0m\u001b[1;32m    193\u001b[0m                 \u001b[0;34m(\u001b[0m\u001b[0misinstance\u001b[0m\u001b[0;34m(\u001b[0m\u001b[0mmarkup\u001b[0m\u001b[0;34m,\u001b[0m \u001b[0mbytes\u001b[0m\u001b[0;34m)\u001b[0m \u001b[0;32mand\u001b[0m \u001b[0;32mnot\u001b[0m \u001b[0;34mb'<'\u001b[0m \u001b[0;32min\u001b[0m \u001b[0mmarkup\u001b[0m\u001b[0;34m)\u001b[0m\u001b[0;34m\u001b[0m\u001b[0m\n\u001b[1;32m    194\u001b[0m                 \u001b[0;32mor\u001b[0m \u001b[0;34m(\u001b[0m\u001b[0misinstance\u001b[0m\u001b[0;34m(\u001b[0m\u001b[0mmarkup\u001b[0m\u001b[0;34m,\u001b[0m \u001b[0mstr\u001b[0m\u001b[0;34m)\u001b[0m \u001b[0;32mand\u001b[0m \u001b[0;32mnot\u001b[0m \u001b[0;34m'<'\u001b[0m \u001b[0;32min\u001b[0m \u001b[0mmarkup\u001b[0m\u001b[0;34m)\u001b[0m\u001b[0;34m\u001b[0m\u001b[0m\n",
      "\u001b[0;31mTypeError\u001b[0m: object of type 'float' has no len()"
     ]
    }
   ],
   "source": [
    "# RF Step 1 :  Using the KaggleWord2VecUtility, we review the word list and append into new list called 'clean_train_review' \n",
    "t0 = time()\n",
    "clean_train_review = []\n",
    "print(\"cleaning and parsing the training data set...\\n\")\n",
    "for i in range(0,len(train[\"text\"])):\n",
    "    clean_train_review.append(\" \".join(KaggleWord2VecUtility.review_to_wordlist(train[\"text\"][i],True)))\n",
    "print(\"done in %0.3fs.\" % (time() - t0))"
   ]
  },
  {
   "cell_type": "code",
   "execution_count": null,
   "metadata": {
    "collapsed": false
   },
   "outputs": [],
   "source": [
    "# RF Step 2: Then, we create the bag of words. \n",
    "# 'The bag of words' is a simplifying representation used in natural language processing and information retrieval. \n",
    "# where text is represented as the bag. We used 'CountVectorizer' to do this job \n",
    "t0 = time()\n",
    "print(\"creating the bag of words\")\n",
    "vectorizer = CountVectorizer(analyzer = \"word\",\\\n",
    "                            tokenizer = None, \\\n",
    "                            preprocessor = None, \\\n",
    "                            stop_words = None, \\\n",
    "                            max_features = 10000)\n",
    "train_data_features = vectorizer.fit_transform(clean_train_review)\n",
    "train_data_features = train_data_features.toarray()\n",
    "print(\"done in %0.3fs.\" % (time() - t0))"
   ]
  },
  {
   "cell_type": "code",
   "execution_count": null,
   "metadata": {
    "collapsed": false
   },
   "outputs": [],
   "source": [
    "# RF Step 3: Then, we used classifier using RandomForest to train the model  \n",
    "t0 = time()\n",
    "print(\"Training the random forest (this way take a while)\")\n",
    "forest = RandomForestClassifier(n_estimators = 100)\n",
    "forest = forest.fit(train_data_features,train[\"sentiment\"])\n",
    "print(\"done in %0.3fs.\" % (time() - t0))"
   ]
  },
  {
   "cell_type": "code",
   "execution_count": null,
   "metadata": {
    "collapsed": false
   },
   "outputs": [],
   "source": [
    "# RF Step 4: Format the testing data \n",
    "t0 = time()\n",
    "print(\"cleaning and parsing the test dataset \")\n",
    "clean_test_reviews = []\n",
    "for i in range(21,orig_size):\n",
    "    clean_test_reviews.append(\" \".join(KaggleWord2VecUtility.review_to_wordlist(test[\"text\"][i],True)))\n",
    "test_data_features = vectorizer.transform(clean_test_reviews)\n",
    "test_data_features = test_data_features.toarray()\n",
    "print(\"done in %0.3fs.\" % (time() - t0))"
   ]
  },
  {
   "cell_type": "code",
   "execution_count": null,
   "metadata": {
    "collapsed": false
   },
   "outputs": [],
   "source": [
    "# ensure that the length are the same\n",
    "len(test_data_features)"
   ]
  },
  {
   "cell_type": "code",
   "execution_count": null,
   "metadata": {
    "collapsed": false
   },
   "outputs": [],
   "source": [
    "# RF Step 5 : Predict review in the testing data \n",
    "t0 = time()\n",
    "print(\"predicting test labels....\")\n",
    "result = forest.predict(test_data_features)\n",
    "print(\"done in %0.3fs.\" % (time() - t0))"
   ]
  },
  {
   "cell_type": "code",
   "execution_count": null,
   "metadata": {
    "collapsed": false
   },
   "outputs": [],
   "source": [
    "t0 = time()\n",
    "print(\"saving the result into csv\")\n",
    "output = pd.DataFrame(data={\"id\":test[\"id\"],\"sentiment\":result})\n",
    "output.to_csv('result_rf_predicted.csv',index=False,quoting=3)\n",
    "print(\"done in %0.3fs.\" % (time() - t0))"
   ]
  },
  {
   "cell_type": "code",
   "execution_count": null,
   "metadata": {
    "collapsed": true
   },
   "outputs": [],
   "source": [
    "# reading back the result \n",
    "result = pd.read_csv('result_rf_predicted.csv')"
   ]
  },
  {
   "cell_type": "code",
   "execution_count": null,
   "metadata": {
    "collapsed": true
   },
   "outputs": [],
   "source": [
    "test_result  = pd.concat([test,result],axis=1) "
   ]
  },
  {
   "cell_type": "code",
   "execution_count": null,
   "metadata": {
    "collapsed": false
   },
   "outputs": [],
   "source": [
    "p = test_result[test_result['sentiment'] == 1].count()[0]\n",
    "n = test_result[test_result['sentiment'] == 0].count()[0]\n",
    "ng = test_result[test_result['sentiment'] == -1].count()[0]\n",
    "print('positive' ,p)\n",
    "print('neutral' ,n)\n",
    "print('negative' ,ng)"
   ]
  },
  {
   "cell_type": "code",
   "execution_count": null,
   "metadata": {
    "collapsed": true
   },
   "outputs": [],
   "source": [
    "data1 = [{'Metric':'Positive','Score':p},{'Metric':'Neutral','Score':n},{'Metric':'Negative','Score':ng}]\n",
    "df = pd.DataFrame(data1) "
   ]
  },
  {
   "cell_type": "code",
   "execution_count": null,
   "metadata": {
    "collapsed": false
   },
   "outputs": [],
   "source": [
    "%matplotlib inline\n",
    "import matplotlib as mpl\n",
    "import matplotlib.pyplot as plt\n",
    "import seaborn as sns\n",
    "sns.set(style=\"whitegrid\", color_codes=True)"
   ]
  },
  {
   "cell_type": "code",
   "execution_count": null,
   "metadata": {
    "collapsed": false
   },
   "outputs": [],
   "source": [
    "sns.barplot(x=\"Metric\", y=\"Score\",data=df);"
   ]
  },
  {
   "cell_type": "code",
   "execution_count": null,
   "metadata": {
    "collapsed": false
   },
   "outputs": [],
   "source": [
    "# let's test by comparing the above 'result' with random tweet \n",
    "test[\"text\"][47] # but using RF, it label this as neutral "
   ]
  },
  {
   "cell_type": "code",
   "execution_count": null,
   "metadata": {
    "collapsed": false
   },
   "outputs": [],
   "source": [
    "test[\"text\"][60] # but using RF, it label this as neutral "
   ]
  },
  {
   "cell_type": "markdown",
   "metadata": {},
   "source": [
    "### Insight\n",
    "\n",
    "1. Based on the 'result' above, there is only 1 tweet amongst 92 tweets are classified as negative. The rest are neutral. \n",
    "2. Maybe this is not an accurate model because it can't predict properly. \n",
    "3. Or maybe because my label is not good. "
   ]
  },
  {
   "cell_type": "markdown",
   "metadata": {},
   "source": [
    "## 4.3 <a id=\"naive\">NAIVE BAYES as Classifier </a>\n",
    "<a href=\"#toc\">(home)</a>"
   ]
  },
  {
   "cell_type": "markdown",
   "metadata": {},
   "source": [
    "In machine learning, naive Bayes classifiers are a family of simple probabilistic classifiers based on \n",
    "applying Bayes' theorem with strong (naive) independence assumptions between the features"
   ]
  },
  {
   "cell_type": "code",
   "execution_count": 53,
   "metadata": {
    "collapsed": true
   },
   "outputs": [],
   "source": [
    "import nltk.classify.util\n",
    "from nltk.classify import NaiveBayesClassifier\n",
    "from nltk.corpus import names "
   ]
  },
  {
   "cell_type": "code",
   "execution_count": 54,
   "metadata": {
    "collapsed": true
   },
   "outputs": [],
   "source": [
    "def word_feats(words):\n",
    "    return dict([(word, True) for word in words])"
   ]
  },
  {
   "cell_type": "markdown",
   "metadata": {},
   "source": [
    "I have another data set which has already labelled with the sentiments, called 'output12ktweets.csv'. I want to use this file which contains 12k tweets as my training set and perform Naive Bayes classification against tweet test set which I crawl in this document"
   ]
  },
  {
   "cell_type": "code",
   "execution_count": 55,
   "metadata": {
    "collapsed": true
   },
   "outputs": [],
   "source": [
    "train_ext = pd.read_csv('output12ktweets.csv')"
   ]
  },
  {
   "cell_type": "code",
   "execution_count": 56,
   "metadata": {
    "collapsed": false
   },
   "outputs": [
    {
     "data": {
      "text/plain": [
       "(12247, 5)"
      ]
     },
     "execution_count": 56,
     "metadata": {},
     "output_type": "execute_result"
    }
   ],
   "source": [
    "train_ext.shape"
   ]
  },
  {
   "cell_type": "code",
   "execution_count": 57,
   "metadata": {
    "collapsed": false
   },
   "outputs": [
    {
     "data": {
      "text/html": [
       "<div>\n",
       "<table border=\"1\" class=\"dataframe\">\n",
       "  <thead>\n",
       "    <tr style=\"text-align: right;\">\n",
       "      <th></th>\n",
       "      <th>id</th>\n",
       "      <th>Tusername</th>\n",
       "      <th>text</th>\n",
       "      <th>context</th>\n",
       "      <th>sentiment</th>\n",
       "    </tr>\n",
       "  </thead>\n",
       "  <tbody>\n",
       "    <tr>\n",
       "      <th>0</th>\n",
       "      <td>1</td>\n",
       "      <td>@zarul_safuan</td>\n",
       "      <td>khalifah muda zarul safuan tmconnects saya nak...</td>\n",
       "      <td>fear</td>\n",
       "      <td>negative</td>\n",
       "    </tr>\n",
       "    <tr>\n",
       "      <th>1</th>\n",
       "      <td>2</td>\n",
       "      <td>@primary0</td>\n",
       "      <td>mohamed ashraf primary tmconnects yes am mar</td>\n",
       "      <td>disgust</td>\n",
       "      <td>neutral</td>\n",
       "    </tr>\n",
       "  </tbody>\n",
       "</table>\n",
       "</div>"
      ],
      "text/plain": [
       "   id      Tusername                                               text  context sentiment\n",
       "0   1  @zarul_safuan  khalifah muda zarul safuan tmconnects saya nak...     fear  negative\n",
       "1   2      @primary0       mohamed ashraf primary tmconnects yes am mar  disgust   neutral"
      ]
     },
     "execution_count": 57,
     "metadata": {},
     "output_type": "execute_result"
    }
   ],
   "source": [
    "train_ext.head(2)"
   ]
  },
  {
   "cell_type": "code",
   "execution_count": 58,
   "metadata": {
    "collapsed": false
   },
   "outputs": [],
   "source": [
    "# i have to translate this first \n",
    "train_ext['translated'] = \"\"\n",
    "for i in range(0,len(train_ext)):\n",
    "    temp = train_ext['text'][i]\n",
    "    train_ext['translated'][i] = translate(temp)"
   ]
  },
  {
   "cell_type": "code",
   "execution_count": 59,
   "metadata": {
    "collapsed": false
   },
   "outputs": [
    {
     "data": {
      "text/plain": [
       "(12247, 5)"
      ]
     },
     "execution_count": 59,
     "metadata": {},
     "output_type": "execute_result"
    }
   ],
   "source": [
    "train_ext.shape"
   ]
  },
  {
   "cell_type": "code",
   "execution_count": 60,
   "metadata": {
    "collapsed": false
   },
   "outputs": [
    {
     "data": {
      "text/html": [
       "<div>\n",
       "<table border=\"1\" class=\"dataframe\">\n",
       "  <thead>\n",
       "    <tr style=\"text-align: right;\">\n",
       "      <th></th>\n",
       "      <th>id</th>\n",
       "      <th>Tusername</th>\n",
       "      <th>text</th>\n",
       "      <th>context</th>\n",
       "      <th>sentiment</th>\n",
       "    </tr>\n",
       "  </thead>\n",
       "  <tbody>\n",
       "    <tr>\n",
       "      <th>0</th>\n",
       "      <td>1</td>\n",
       "      <td>@zarul_safuan</td>\n",
       "      <td>khalifah muda zarul safuan tmconnects saya nak...</td>\n",
       "      <td>fear</td>\n",
       "      <td>negative</td>\n",
       "    </tr>\n",
       "    <tr>\n",
       "      <th>1</th>\n",
       "      <td>2</td>\n",
       "      <td>@primary0</td>\n",
       "      <td>mohamed ashraf primary tmconnects yes am mar</td>\n",
       "      <td>disgust</td>\n",
       "      <td>neutral</td>\n",
       "    </tr>\n",
       "    <tr>\n",
       "      <th>2</th>\n",
       "      <td>3</td>\n",
       "      <td>@mariannresabae</td>\n",
       "      <td>marianne bernadette mariannresabae tmconnects ...</td>\n",
       "      <td>joy</td>\n",
       "      <td>positive</td>\n",
       "    </tr>\n",
       "  </tbody>\n",
       "</table>\n",
       "</div>"
      ],
      "text/plain": [
       "   id        Tusername                                               text  context sentiment\n",
       "0   1    @zarul_safuan  khalifah muda zarul safuan tmconnects saya nak...     fear  negative\n",
       "1   2        @primary0       mohamed ashraf primary tmconnects yes am mar  disgust   neutral\n",
       "2   3  @mariannresabae  marianne bernadette mariannresabae tmconnects ...      joy  positive"
      ]
     },
     "execution_count": 60,
     "metadata": {},
     "output_type": "execute_result"
    }
   ],
   "source": [
    "train_ext.head(3)"
   ]
  },
  {
   "cell_type": "code",
   "execution_count": 61,
   "metadata": {
    "collapsed": true
   },
   "outputs": [],
   "source": [
    "# save the translated into a csv file \n",
    "train_ext.to_csv('output12ktweets_translated.csv')"
   ]
  },
  {
   "cell_type": "code",
   "execution_count": 62,
   "metadata": {
    "collapsed": true
   },
   "outputs": [],
   "source": [
    "# load the file back \n",
    "train_ext_trans = pd.read_csv('output12ktweets_translated.csv')"
   ]
  },
  {
   "cell_type": "code",
   "execution_count": 63,
   "metadata": {
    "collapsed": false
   },
   "outputs": [
    {
     "name": "stdout",
     "output_type": "stream",
     "text": [
      "(5833, 7)\n",
      "(5111, 7)\n",
      "(1303, 7)\n"
     ]
    }
   ],
   "source": [
    "train_ext_neg = train_ext_trans[train_ext_trans['sentiment'] == 'negative']\n",
    "train_ext_pos = train_ext_trans[train_ext_trans['sentiment'] == 'positive']\n",
    "train_ext_neu = train_ext_trans[train_ext_trans['sentiment'] == 'neutral']\n",
    "print(train_ext_neg.shape)\n",
    "print(train_ext_pos.shape)\n",
    "print(train_ext_neu.shape)"
   ]
  },
  {
   "cell_type": "code",
   "execution_count": 64,
   "metadata": {
    "collapsed": false
   },
   "outputs": [
    {
     "data": {
      "text/plain": [
       "'mx mx tmconnects tmcorp i want to upgrade to unifi pro mbps is setiawangsa included tmconnect current package is mbps please assist me pm apr'"
      ]
     },
     "execution_count": 64,
     "metadata": {},
     "output_type": "execute_result"
    }
   ],
   "source": [
    "train_ext_pos[\"translated\"].iloc[122]"
   ]
  },
  {
   "cell_type": "code",
   "execution_count": null,
   "metadata": {
    "collapsed": true
   },
   "outputs": [],
   "source": [
    "# Part untuk process training set data  \n",
    "#positive_vocab = [ 'awesome', 'outstanding', 'fantastic', 'terrific', 'good', 'nice', 'great', ':)' ]\n",
    "#negative_vocab = [ 'bad', 'terrible','useless', 'hate', ':(','fuck','fak','damn' ]\n",
    "#neutral_vocab = [ 'movie','the','sound','was','is','actors','did','know','words','not' ]\n",
    "#positive_vocab = read_wordlist('positive-words.txt')\n",
    "#negative_vocab = read_wordlist('negative-words.txt')\n",
    "#neutral_vocab = ['what','is','how']"
   ]
  },
  {
   "cell_type": "code",
   "execution_count": 65,
   "metadata": {
    "collapsed": true
   },
   "outputs": [],
   "source": [
    "train_ext_pos_new = train_ext_pos[train_ext_pos[\"text\"].notnull()]\n",
    "train_ext_neg_new = train_ext_neg[train_ext_neg[\"text\"].notnull()]\n",
    "train_ext_neu_new = train_ext_neu[train_ext_neu[\"text\"].notnull()]"
   ]
  },
  {
   "cell_type": "code",
   "execution_count": 66,
   "metadata": {
    "collapsed": false
   },
   "outputs": [],
   "source": [
    "i = 1\n",
    "train_ext_poslist = []\n",
    "for i in range(1,len(train_ext_pos_new)):\n",
    "    k = train_ext_pos_new[\"text\"].iloc[i]\n",
    "    g = k.strip()\n",
    "    train_ext_poslist.append(g)\n",
    "    i = i+1"
   ]
  },
  {
   "cell_type": "code",
   "execution_count": 67,
   "metadata": {
    "collapsed": true
   },
   "outputs": [],
   "source": [
    "i = 1\n",
    "train_ext_neglist = []\n",
    "for i in range(1,len(train_ext_neg_new)):\n",
    "    k = train_ext_neg_new[\"text\"].iloc[i]\n",
    "    g = k.strip()\n",
    "    train_ext_neglist.append(g)\n",
    "    i = i+1"
   ]
  },
  {
   "cell_type": "code",
   "execution_count": 68,
   "metadata": {
    "collapsed": true
   },
   "outputs": [],
   "source": [
    "i = 1\n",
    "train_ext_neulist = []\n",
    "for i in range(1,len(train_ext_neu_new)):\n",
    "    k = train_ext_neu_new[\"text\"].iloc[i]\n",
    "    g = k.strip()\n",
    "    train_ext_neulist.append(g)\n",
    "    i = i+1"
   ]
  },
  {
   "cell_type": "code",
   "execution_count": 69,
   "metadata": {
    "collapsed": false
   },
   "outputs": [],
   "source": [
    "#positive_features = [(word_feats(pos), 'pos') for pos in positive_vocab]\n",
    "#negative_features = [(word_feats(neg), 'neg') for neg in negative_vocab]\n",
    "#neutral_features = [(word_feats(neu), 'neu') for neu in neutral_vocab]\n",
    "\n",
    "positive_features = [(word_feats(pos), 'pos') for pos in train_ext_poslist]\n",
    "negative_features = [(word_feats(neg), 'neg') for neg in train_ext_neglist]\n",
    "neutral_features = [(word_feats(neu), 'neu') for neu in train_ext_neulist]\n",
    "\n",
    "train_set = positive_features + negative_features + neutral_features"
   ]
  },
  {
   "cell_type": "code",
   "execution_count": 70,
   "metadata": {
    "collapsed": true
   },
   "outputs": [],
   "source": [
    "classifier = NaiveBayesClassifier.train(train_set) "
   ]
  },
  {
   "cell_type": "markdown",
   "metadata": {},
   "source": [
    "Above, I have train the new classifier using NB based on the train set which derive from 12k of tweets. Before I used that againts the test data set, I found that accuracy is different. \n",
    "\n",
    "Example below, if i say, \"UNIFI good service\", then I still got the review as negative. \n"
   ]
  },
  {
   "cell_type": "code",
   "execution_count": 71,
   "metadata": {
    "collapsed": true
   },
   "outputs": [],
   "source": [
    "sentence = \"UNIFI good service\"\n",
    "sentence = sentence.lower()"
   ]
  },
  {
   "cell_type": "code",
   "execution_count": 72,
   "metadata": {
    "collapsed": false
   },
   "outputs": [
    {
     "name": "stdout",
     "output_type": "stream",
     "text": [
      "Positive: 0.0\n",
      "Negative: 1.0\n"
     ]
    }
   ],
   "source": [
    "# Predict\n",
    "neg = 0\n",
    "pos = 0\n",
    "# kena split them first \n",
    "words = sentence.split(' ')\n",
    "for word in words:\n",
    "    classResult = classifier.classify(word_feats(word))\n",
    "    if classResult == 'neg':\n",
    "        neg = neg + 1\n",
    "    if classResult == 'pos':\n",
    "        pos = pos + 1\n",
    " \n",
    "print('Positive: ' + str(float(pos)/len(words)))\n",
    "print('Negative: ' + str(float(neg)/len(words)))"
   ]
  },
  {
   "cell_type": "markdown",
   "metadata": {},
   "source": [
    "TBD : \n",
    "There are surely some work to be done here on Naive Bayes on the classification method "
   ]
  },
  {
   "cell_type": "markdown",
   "metadata": {},
   "source": [
    "## 5.0 <a id='clustering'>CLUSTERING</a>\n",
    "<a href=\"#toc\">Home</a>"
   ]
  },
  {
   "cell_type": "markdown",
   "metadata": {},
   "source": [
    "## 5.1 <a id='tfidf'>TF-IDF representation and K-Means clustering</a>\n",
    "<a href=\"#toc\">Home</a>"
   ]
  },
  {
   "cell_type": "markdown",
   "metadata": {},
   "source": [
    "TF-IDF or (term frequency–inverse document frequency) is a numerical statistic that is intended \n",
    "to reflect how important a word is to a document in a collection or corpus.\n",
    "\n",
    "https://en.wikipedia.org/wiki/Tf%E2%80%93idf\n"
   ]
  },
  {
   "cell_type": "code",
   "execution_count": 73,
   "metadata": {
    "collapsed": true
   },
   "outputs": [],
   "source": [
    "import sklearn\n",
    "from sklearn.cluster import KMeans"
   ]
  },
  {
   "cell_type": "code",
   "execution_count": 74,
   "metadata": {
    "collapsed": false
   },
   "outputs": [],
   "source": [
    "# preparing the data\n",
    "test = pd.read_csv('result_tweet_using_NLP.csv')"
   ]
  },
  {
   "cell_type": "code",
   "execution_count": 75,
   "metadata": {
    "collapsed": false
   },
   "outputs": [
    {
     "data": {
      "text/html": [
       "<div>\n",
       "<table border=\"1\" class=\"dataframe\">\n",
       "  <thead>\n",
       "    <tr style=\"text-align: right;\">\n",
       "      <th></th>\n",
       "      <th>Unnamed: 0</th>\n",
       "      <th>t_id</th>\n",
       "      <th>created_at</th>\n",
       "      <th>user_name</th>\n",
       "      <th>location</th>\n",
       "      <th>text</th>\n",
       "      <th>pos_scores</th>\n",
       "      <th>neg_scores</th>\n",
       "      <th>cluster</th>\n",
       "    </tr>\n",
       "  </thead>\n",
       "  <tbody>\n",
       "    <tr>\n",
       "      <th>0</th>\n",
       "      <td>0</td>\n",
       "      <td>8.428030e+17</td>\n",
       "      <td>Fri Mar 17 18:21:12 +0000 2017</td>\n",
       "      <td>Lil Ariana CupcakKe</td>\n",
       "      <td>Malaysia</td>\n",
       "      <td>@TMConnects refresh my connection-streamyx</td>\n",
       "      <td>1</td>\n",
       "      <td>0</td>\n",
       "      <td>1</td>\n",
       "    </tr>\n",
       "    <tr>\n",
       "      <th>1</th>\n",
       "      <td>1</td>\n",
       "      <td>8.503664e+17</td>\n",
       "      <td>Fri Apr 07 15:15:28 +0000 2017</td>\n",
       "      <td>ㅤㅤㅤＤＡＮＩＥＬ Ａ．ㅤㅤㅤㅤㅤ</td>\n",
       "      <td>kat hati awaaa</td>\n",
       "      <td>OMFG STREAMYX</td>\n",
       "      <td>0</td>\n",
       "      <td>0</td>\n",
       "      <td>0</td>\n",
       "    </tr>\n",
       "    <tr>\n",
       "      <th>2</th>\n",
       "      <td>2</td>\n",
       "      <td>8.436736e+17</td>\n",
       "      <td>Mon Mar 20 04:00:40 +0000 2017</td>\n",
       "      <td>Adilah Rahman 🐼</td>\n",
       "      <td>penang. sepang. puncak alam</td>\n",
       "      <td>@ Badrulhisyam92 @TMConnects lol 2 seconds aft...</td>\n",
       "      <td>0</td>\n",
       "      <td>0</td>\n",
       "      <td>0</td>\n",
       "    </tr>\n",
       "    <tr>\n",
       "      <th>3</th>\n",
       "      <td>3</td>\n",
       "      <td>8.496861e+17</td>\n",
       "      <td>Wed Apr 05 18:11:59 +0000 2017</td>\n",
       "      <td>RICHARDJOHNBACCELLIA</td>\n",
       "      <td>Sacramento, CA</td>\n",
       "      <td>RT @maya_karin: UniFi and Streamyx customers? ...</td>\n",
       "      <td>1</td>\n",
       "      <td>0</td>\n",
       "      <td>1</td>\n",
       "    </tr>\n",
       "    <tr>\n",
       "      <th>4</th>\n",
       "      <td>4</td>\n",
       "      <td>8.498065e+17</td>\n",
       "      <td>Thu Apr 06 02:10:36 +0000 2017</td>\n",
       "      <td>TMConnects</td>\n",
       "      <td>Kuala Lumpur, Malaysia</td>\n",
       "      <td>@swankyhobos Hi. Just to confirm, you're subsc...</td>\n",
       "      <td>0</td>\n",
       "      <td>0</td>\n",
       "      <td>0</td>\n",
       "    </tr>\n",
       "  </tbody>\n",
       "</table>\n",
       "</div>"
      ],
      "text/plain": [
       "   Unnamed: 0          t_id                      created_at             user_name                     location                                               text  pos_scores  neg_scores  cluster\n",
       "0           0  8.428030e+17  Fri Mar 17 18:21:12 +0000 2017   Lil Ariana CupcakKe                     Malaysia         @TMConnects refresh my connection-streamyx           1           0        1\n",
       "1           1  8.503664e+17  Fri Apr 07 15:15:28 +0000 2017     ㅤㅤㅤＤＡＮＩＥＬ Ａ．ㅤㅤㅤㅤㅤ               kat hati awaaa                                      OMFG STREAMYX           0           0        0\n",
       "2           2  8.436736e+17  Mon Mar 20 04:00:40 +0000 2017       Adilah Rahman 🐼  penang. sepang. puncak alam  @ Badrulhisyam92 @TMConnects lol 2 seconds aft...           0           0        0\n",
       "3           3  8.496861e+17  Wed Apr 05 18:11:59 +0000 2017  RICHARDJOHNBACCELLIA               Sacramento, CA  RT @maya_karin: UniFi and Streamyx customers? ...           1           0        1\n",
       "4           4  8.498065e+17  Thu Apr 06 02:10:36 +0000 2017            TMConnects      Kuala Lumpur, Malaysia   @swankyhobos Hi. Just to confirm, you're subsc...           0           0        0"
      ]
     },
     "execution_count": 75,
     "metadata": {},
     "output_type": "execute_result"
    }
   ],
   "source": [
    "# KMeans clustering\n",
    "n_clusters = 5 # start with 5 cluster first \n",
    "kmeans = KMeans(n_clusters=n_clusters)\n",
    "X = test[['pos_scores', 'neg_scores']]\n",
    "kmeans.fit(X)\n",
    "# a new column 'cluster' which will predict the given set\n",
    "test['cluster'] = kmeans.predict(X)\n",
    "test.head()"
   ]
  },
  {
   "cell_type": "code",
   "execution_count": 76,
   "metadata": {
    "collapsed": false
   },
   "outputs": [],
   "source": [
    "import itertools\n",
    "# Some trickery we'll need to draw the chart\n",
    "styles = itertools.cycle(('o', 'v', '^', '<', 's', '8', 'p'))\n",
    "colors = itertools.cycle(('r','b','g','k','c'))\n",
    "markers = [next(styles)+next(colors) for j in range(7*5)]"
   ]
  },
  {
   "cell_type": "code",
   "execution_count": 77,
   "metadata": {
    "collapsed": false
   },
   "outputs": [
    {
     "data": {
      "image/png": "[encoded data removed]",
      "text/plain": [
       "<matplotlib.figure.Figure at 0x7f05b9448828>"
      ]
     },
     "metadata": {},
     "output_type": "display_data"
    }
   ],
   "source": [
    "plt.figure(figsize=(12,8))                                                                              \n",
    "\n",
    "for cluster_num in range(n_clusters):                                                                                                                                                                                                                                                                                                                                                                                                                                                                                                                                                                                                                                                                                                                                                                                                                                                                                                                                                                                                                                                                                                                                                                                                                                                                                                                                                                                                                                                                                                                                                                                                                                                                                                                                                                                                                                                                                                                                                                                                                                                                                                                                                                                                                                                                                                                                                                                                                                                                                                                                                                                                                                                                                                                                                                                                                                                                                         \n",
    "    this_cluster = test['cluster']==cluster_num\n",
    "    plt.plot(test.loc[this_cluster,'pos_scores'], test.loc[this_cluster,'neg_scores'], markers[cluster_num])\n",
    "    plt.xticks(rotation=90)\n",
    "\n",
    "plt.tight_layout()"
   ]
  },
  {
   "cell_type": "code",
   "execution_count": 78,
   "metadata": {
    "collapsed": false
   },
   "outputs": [
    {
     "name": "stdout",
     "output_type": "stream",
     "text": [
      "Cluster 0: \n",
      "@TMConnects my streamyx cant connect to the networ\n",
      "@edman2004 Hi. Can you DM your UniFi/Streamyx acco\n",
      "@caranthir23 Hi. Are you using UniFi or Streamyx y\n",
      "--------------------\n",
      "Cluster 1: \n",
      "FREE 30 Minutes/Day 1Mbps Internet Access (UniFi &\n",
      "RT @maya_karin: UniFi and Streamyx customers? Awes\n",
      "Dato Sri Mohamed Shazalli Ramly has been appointed\n",
      "--------------------\n",
      "Cluster 2: \n",
      "@TMConnects hi my office telephone, fax &amp; stre\n",
      "Called Streamyx just now. All problem solved. Yass\n",
      "@VigilantAbused hi..streamyx can upgrade to unifi \n",
      "--------------------\n",
      "Cluster 3: \n",
      "@TMConnects I have a problem w the Streamyx I can \n",
      "Probably I have wasted 20% of my life time by thro\n",
      "Streamyx has been shitty lately. Fuck you man, fuc\n",
      "--------------------\n",
      "Cluster 4: \n",
      "I love Umobile and Streamyx internet connection 🙃 \n",
      "Are you watching #iflix using your UniFi or Stream\n",
      "5mbps is good enough in @BeaufortTown rather than \n",
      "--------------------\n"
     ]
    }
   ],
   "source": [
    "cluster_result = pd.DataFrame(columns=['cluster_id','context'])\n",
    "for j in range(n_clusters):\n",
    "    this_cluster = test['cluster']==j\n",
    "    samples = np.random.choice(test.loc[this_cluster,['text']].values.reshape((-1)), size=3)\n",
    "    print(\"Cluster %d: \"%j)\n",
    "    for text in samples:\n",
    "        print(text[:50])\n",
    "    print('--------------------')\n",
    "\n",
    "# from the below results, found that there are a lot of negative feedback measured from Cluster 1 and 3"
   ]
  },
  {
   "cell_type": "code",
   "execution_count": 79,
   "metadata": {
    "collapsed": false
   },
   "outputs": [],
   "source": [
    "# save the file into csv for processing to QlickSense \n",
    "forsavingCluster = test[['t_id','created_at','text','user_name','location','pos_scores','neg_scores','cluster']]"
   ]
  },
  {
   "cell_type": "code",
   "execution_count": 80,
   "metadata": {
    "collapsed": true
   },
   "outputs": [],
   "source": [
    "# save the result\n",
    "forsavingCluster.to_csv('result_tweet_clustering.csv', sep=',', encoding='utf-8',quotechar='\"',line_terminator='\\n',header=True)"
   ]
  },
  {
   "cell_type": "markdown",
   "metadata": {},
   "source": [
    "## 5.2 <a id='nmf'>Using Non Matrix Factorization (NMF) for clustering</a>\n",
    "<a href=\"#toc\">Home</a>"
   ]
  },
  {
   "cell_type": "code",
   "execution_count": 81,
   "metadata": {
    "collapsed": true
   },
   "outputs": [],
   "source": [
    "from sklearn.feature_extraction.text import TfidfVectorizer\n",
    "from sklearn.decomposition import NMF\n",
    "\n",
    "vectorizer = TfidfVectorizer(max_df=0.95, min_df=2, max_features=1000,\n",
    "                             stop_words='english')"
   ]
  },
  {
   "cell_type": "code",
   "execution_count": 82,
   "metadata": {
    "collapsed": false
   },
   "outputs": [],
   "source": [
    "tfidf = vectorizer.fit_transform(test.loc[test['text'].notnull(), 'text'])"
   ]
  },
  {
   "cell_type": "code",
   "execution_count": 83,
   "metadata": {
    "collapsed": true
   },
   "outputs": [],
   "source": [
    "n_topics = 10\n",
    "nmf = NMF(n_components=n_topics, random_state=1).fit(tfidf)"
   ]
  },
  {
   "cell_type": "code",
   "execution_count": 84,
   "metadata": {
    "collapsed": false
   },
   "outputs": [
    {
     "name": "stdout",
     "output_type": "stream",
     "text": [
      "Topic #0:\n",
      "group ramly shazalli dato appointed effective sri mohamed adillaazam managing director ceo amp telekom malaysia rt mohammed new names coverage\n",
      "Topic #1:\n",
      "just confirm unifi ya subscribing hi want huh streamyx using service package subsribed referring previously upgrade slow cupcakkebutera referred called\n",
      "Topic #2:\n",
      "number account dm check holder ic thanks unifi hi streamyx kay dale50373798 telephone amp end lilyamalina adzymm snxwflakemalik checking fyi\n",
      "Topic #3:\n",
      "streamyx tmconnects line working phone fuck tm unifi wifi upgrade yes know problem today connect service pay speed internet wrong\n",
      "Topic #4:\n",
      "2017 closing date yayasan 31 march local fxlzwajhe1 overseas 11 student_spm https telekom malaysia rt soon scholarships scholarship 22 mohammed\n",
      "Topic #5:\n",
      "referring account refer hi streamyx reunitero previously referred salimin_c3 cupcakkebutera ve anasjalen gt confirm connectivity just register fyi upload checking\n",
      "Topic #6:\n",
      "using unifi modem router hi tried btw ya restart restarting streamyx know help yes cable https 3gdrrcpx7y ass 100 snxwflakemalik\n",
      "Topic #7:\n",
      "slow download feel gt gifs jacking porn haikalclassic sicherpolizei rt streamyx speed internet connectivity 8mbps getting finally love just ur\n",
      "Topic #8:\n",
      "connection refresh tmconnects reset streamyx internet hi acc check report tm slow adzymm love past try problem morning dah let\n",
      "Topic #9:\n",
      "https names new tm telekom malaysia ceo 22 10 29pm digitialmarketing director managing group celcom march service 2017 head wifi\n"
     ]
    }
   ],
   "source": [
    "n_top_words = 20\n",
    "feature_names = vectorizer.get_feature_names()\n",
    "\n",
    "for topic_idx, topic in enumerate(nmf.components_):\n",
    "    print(\"Topic #%d:\" % topic_idx)\n",
    "    print(\" \".join([feature_names[i]\n",
    "                    for i in topic.argsort()[:-n_top_words - 1:-1]]))"
   ]
  },
  {
   "cell_type": "markdown",
   "metadata": {},
   "source": [
    "## 6.0 <a id='summary'>SUMMARY</a>\n",
    "<a href=\"#toc\">Home</a>"
   ]
  },
  {
   "cell_type": "markdown",
   "metadata": {},
   "source": [
    "1. In NLP, we have used 2 corpus reference, there are from UIC and from TextBlob. Both are showing similar results. \n",
    "2. Based on ML classification, we know that\n",
    "   * RF is not a good classification because it needs us to label them manually. \n",
    "   * Using Naive Bayes, we were trying to use 12,000 of labelled tweets and make them into as the training set. However, technically, there problems with the classification because when we try the sentence 'unifi is good', still it goes to negative sentiment. \n",
    "3. Based on clustering, we know the mostly discussed words. \n",
    "   * K-Means are pretty much captured that most of the tweets are hate tweets.\n",
    "   * NMF also shows similar result for K-Means"
   ]
  }
 ],
 "metadata": {
  "kernelspec": {
   "display_name": "Python 3",
   "language": "python",
   "name": "python3"
  },
  "language_info": {
   "codemirror_mode": {
    "name": "ipython",
    "version": 3
   },
   "file_extension": ".py",
   "mimetype": "text/x-python",
   "name": "python",
   "nbconvert_exporter": "python",
   "pygments_lexer": "ipython3",
   "version": "3.6.0"
  }
 },
 "nbformat": 4,
 "nbformat_minor": 2
}
