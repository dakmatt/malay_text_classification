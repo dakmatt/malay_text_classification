{
 "cells": [
  {
   "cell_type": "markdown",
   "metadata": {
    "collapsed": true
   },
   "source": [
    "# The Malay text classification using SVM \n",
    "## and manual check found that this result has 65% accuracy\n",
    "\n",
    "### Author : Ahmad Fairuz Ali\n",
    "### Date :  10 May 2017"
   ]
  },
  {
   "cell_type": "code",
   "execution_count": null,
   "metadata": {
    "collapsed": true
   },
   "outputs": [],
   "source": [
    "import pandas as pd\n",
    "import os\n",
    "import numpy as np\n",
    "import datetime"
   ]
  },
  {
   "cell_type": "markdown",
   "metadata": {},
   "source": [
    "## STEP 1 : Sediakan TEST data untuk Q2 "
   ]
  },
  {
   "cell_type": "code",
   "execution_count": null,
   "metadata": {
    "collapsed": false
   },
   "outputs": [],
   "source": [
    "# load your test data \n",
    "test = pd.read_csv(\"xxx\")\n",
    "test.head(2)"
   ]
  },
  {
   "cell_type": "markdown",
   "metadata": {
    "collapsed": true
   },
   "source": [
    "## STEP 2: SEDIAKAN TRAIN DATA Q2 "
   ]
  },
  {
   "cell_type": "code",
   "execution_count": null,
   "metadata": {
    "collapsed": true
   },
   "outputs": [],
   "source": [
    "# load your train data\n",
    "train = pd.read_csv(\"XXXX\")"
   ]
  },
  {
   "cell_type": "code",
   "execution_count": null,
   "metadata": {
    "collapsed": false
   },
   "outputs": [],
   "source": [
    "train.shape"
   ]
  },
  {
   "cell_type": "code",
   "execution_count": null,
   "metadata": {
    "collapsed": false
   },
   "outputs": [],
   "source": [
    "train.head()"
   ]
  },
  {
   "cell_type": "markdown",
   "metadata": {},
   "source": [
    "## STEP 3: before start machine learning, check balik the size of each 'test' and 'training' data "
   ]
  },
  {
   "cell_type": "code",
   "execution_count": null,
   "metadata": {
    "collapsed": false
   },
   "outputs": [],
   "source": [
    "print(test.shape)\n",
    "print(train.shape)"
   ]
  },
  {
   "cell_type": "code",
   "execution_count": null,
   "metadata": {
    "collapsed": false
   },
   "outputs": [],
   "source": [
    "orig_size = len(test.index)\n",
    "print(orig_size)"
   ]
  },
  {
   "cell_type": "code",
   "execution_count": null,
   "metadata": {
    "collapsed": false
   },
   "outputs": [],
   "source": [
    "test['text'][10]"
   ]
  },
  {
   "cell_type": "code",
   "execution_count": null,
   "metadata": {
    "collapsed": false
   },
   "outputs": [],
   "source": [
    "test.head(300)"
   ]
  },
  {
   "cell_type": "code",
   "execution_count": null,
   "metadata": {
    "collapsed": false
   },
   "outputs": [],
   "source": [
    "train.head(3)"
   ]
  },
  {
   "cell_type": "markdown",
   "metadata": {},
   "source": [
    "##  STEP 4 : Start Machine Learning (5 steps)"
   ]
  },
  {
   "cell_type": "code",
   "execution_count": null,
   "metadata": {
    "collapsed": false
   },
   "outputs": [],
   "source": [
    "import os\n",
    "from sklearn.feature_extraction.text import CountVectorizer\n",
    "from sklearn import svm\n",
    "import pandas as pd\n",
    "import nltk\n",
    "from time import time\n",
    "import numpy as np"
   ]
  },
  {
   "cell_type": "code",
   "execution_count": null,
   "metadata": {
    "collapsed": false
   },
   "outputs": [],
   "source": [
    "# this is for your to download the KaggleWord2Vec \n",
    "!wget https://github.com/wendykan/DeepLearningMovies/blob/master/KaggleWord2VecUtility.py"
   ]
  },
  {
   "cell_type": "code",
   "execution_count": null,
   "metadata": {
    "collapsed": true
   },
   "outputs": [],
   "source": [
    "from KaggleWord2VecUtility import KaggleWord2VecUtility"
   ]
  },
  {
   "cell_type": "code",
   "execution_count": null,
   "metadata": {
    "collapsed": false
   },
   "outputs": [],
   "source": [
    "# RF Step 1 :  Using the KaggleWord2VecUtility, we review the word list and append into new list called 'clean_train_review' \n",
    "t0 = time()\n",
    "clean_train_review = []\n",
    "print(\"cleaning and parsing the training data set...\\n\")\n",
    "for i in range(0,len(train[\"text\"])):\n",
    "    #print(i)\n",
    "    #print(train[\"text\"][i])\n",
    "    clean_train_review.append(\" \".join(KaggleWord2VecUtility.review_to_wordlist(train[\"text\"][i],True)))\n",
    "print(\"done in %0.3fs.\" % (time() - t0))"
   ]
  },
  {
   "cell_type": "code",
   "execution_count": null,
   "metadata": {
    "collapsed": false
   },
   "outputs": [],
   "source": [
    "# RF Step 2: Then, we create the bag of words. \n",
    "# 'The bag of words' is a simplifying representation used in natural language processing and information retrieval. \n",
    "# where text is represented as the bag. We used 'CountVectorizer' to do this job \n",
    "t0 = time()\n",
    "print(\"creating the bag of words\")\n",
    "vectorizer = CountVectorizer(analyzer = \"word\",\\\n",
    "                            tokenizer = None, \\\n",
    "                            preprocessor = None, \\\n",
    "                            stop_words = None, \\\n",
    "                            max_features = 100)\n",
    "train_data_features = vectorizer.fit_transform(clean_train_review)\n",
    "train_data_features = train_data_features.toarray()\n",
    "print(\"done in %0.3fs.\" % (time() - t0))"
   ]
  },
  {
   "cell_type": "code",
   "execution_count": null,
   "metadata": {
    "collapsed": false
   },
   "outputs": [],
   "source": [
    "# SVM Step 3: this is for SVM to train the model\n",
    "t0 = time()\n",
    "print(\"training the data using SVM\")\n",
    "#mysvm = svm.SVC()\n",
    "mysvm = svm.LinearSVC()\n",
    "mysvm = mysvm.fit(train_data_features,train[\"labelled_category\"])\n",
    "print(\"done in %0.3fs.\" % (time() - t0))"
   ]
  },
  {
   "cell_type": "code",
   "execution_count": null,
   "metadata": {
    "collapsed": false
   },
   "outputs": [],
   "source": [
    "# RF Step 4: Format the testing data \n",
    "t0 = time()\n",
    "print(\"cleaning and parsing the test dataset \")\n",
    "clean_test_reviews = []\n",
    "for i in range(0,orig_size):\n",
    "    clean_test_reviews.append(\" \".join(KaggleWord2VecUtility.review_to_wordlist(test[\"original\"][i],True)))\n",
    "test_data_features = vectorizer.transform(clean_test_reviews)\n",
    "test_data_features = test_data_features.toarray()\n",
    "print(\"done in %0.3fs.\" % (time() - t0))"
   ]
  },
  {
   "cell_type": "code",
   "execution_count": null,
   "metadata": {
    "collapsed": false
   },
   "outputs": [],
   "source": [
    "# SVM Step 5: predict review in the testing data \n",
    "t0 = time()\n",
    "print(\"predicting test labels....\")\n",
    "result = mysvm.predict(test_data_features)\n",
    "print(\"done in %0.3fs.\" % (time() - t0))"
   ]
  },
  {
   "cell_type": "markdown",
   "metadata": {},
   "source": [
    "## STEP 5: ENSURE THE DATA SET BETWEEN TEST_DATA_FEATURES are THE SAME WITH RESULT "
   ]
  },
  {
   "cell_type": "code",
   "execution_count": null,
   "metadata": {
    "collapsed": false
   },
   "outputs": [],
   "source": [
    "len(test_data_features)"
   ]
  },
  {
   "cell_type": "code",
   "execution_count": null,
   "metadata": {
    "collapsed": false
   },
   "outputs": [],
   "source": [
    "len(result)"
   ]
  },
  {
   "cell_type": "code",
   "execution_count": null,
   "metadata": {
    "collapsed": false
   },
   "outputs": [],
   "source": [
    "len(test)"
   ]
  },
  {
   "cell_type": "code",
   "execution_count": null,
   "metadata": {
    "collapsed": false
   },
   "outputs": [],
   "source": [
    "print(result.shape)"
   ]
  },
  {
   "cell_type": "code",
   "execution_count": null,
   "metadata": {
    "collapsed": false
   },
   "outputs": [],
   "source": [
    "# SVM Step 7: save data untuk SVM file Q1 \n",
    "t0 = time()\n",
    "print(\"saving the result into csv\")\n",
    "output = pd.DataFrame(data={\"user_hash\":test[\"user_hash\"],\"category\":result})\n",
    "output.to_csv('xxx.csv',index=False,quoting=3)\n",
    "print(\"done in %0.3fs.\" % (time() - t0))"
   ]
  },
  {
   "cell_type": "code",
   "execution_count": null,
   "metadata": {
    "collapsed": false
   },
   "outputs": [],
   "source": [
    "# SVM Step 7: save data untuk SVM for Q2 data yg ada banyak 9 column, sebab\n",
    "# dalam Q1, hanya ada 2 column aje yg aku pakai \n",
    "t0 = time()\n",
    "print(\"saving the result into csv\")\n",
    "output = pd.DataFrame(data={\"UserHash\":test[\"UserHash\"],\n",
    "                            \"original\":test[\"original\"],\n",
    "                            \"text\":test[\"text\"],\n",
    "                            \"predicted_category\":result})\n",
    "datetimenow = datetime.datetime.now().strftime(\"%Y%m%d_%H%M%S\")\n",
    "filename2save = \"xxx\" + datetimenow + \".csv\"\n",
    "output.to_csv(filename2save,index=False)\n",
    "print(filename2save)\n",
    "print(\"done in %0.3fs.\" % (time() - t0))"
   ]
  },
  {
   "cell_type": "code",
   "execution_count": null,
   "metadata": {
    "collapsed": false
   },
   "outputs": [],
   "source": [
    "# type out the output file \n",
    "output.head(300)"
   ]
  }
 ],
 "metadata": {
  "kernelspec": {
   "display_name": "Python 3",
   "language": "python",
   "name": "python3"
  },
  "language_info": {
   "codemirror_mode": {
    "name": "ipython",
    "version": 3
   },
   "file_extension": ".py",
   "mimetype": "text/x-python",
   "name": "python",
   "nbconvert_exporter": "python",
   "pygments_lexer": "ipython3",
   "version": "3.6.0"
  }
 },
 "nbformat": 4,
 "nbformat_minor": 2
}
